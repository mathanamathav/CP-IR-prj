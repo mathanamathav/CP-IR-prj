{
  "nbformat": 4,
  "nbformat_minor": 0,
  "metadata": {
    "colab": {
      "provenance": []
    },
    "kernelspec": {
      "name": "python3",
      "display_name": "Python 3"
    },
    "language_info": {
      "name": "python"
    }
  },
  "cells": [
    {
      "cell_type": "code",
      "execution_count": null,
      "metadata": {
        "id": "EaZMy2XmZFGq"
      },
      "outputs": [],
      "source": [
        "import pandas as pd\n",
        "import re\n",
        "import numpy as np"
      ]
    },
    {
      "cell_type": "code",
      "source": [
        "df=pd.read_csv('/content/leetcode_questions.csv')"
      ],
      "metadata": {
        "id": "D05pEyXVZP4T"
      },
      "execution_count": null,
      "outputs": []
    },
    {
      "cell_type": "code",
      "source": [
        "df.head()"
      ],
      "metadata": {
        "colab": {
          "base_uri": "https://localhost:8080/",
          "height": 642
        },
        "id": "WIwYr-ekZVNV",
        "outputId": "1d4b17a8-ceaa-4e59-8ee5-72c3a15c1726"
      },
      "execution_count": null,
      "outputs": [
        {
          "output_type": "execute_result",
          "data": {
            "text/plain": [
              "   Question ID                                  Question Title  \\\n",
              "0            1                                         Two Sum   \n",
              "1            2                                 Add Two Numbers   \n",
              "2            3  Longest Substring Without Repeating Characters   \n",
              "3            4                     Median of Two Sorted Arrays   \n",
              "4            5                   Longest Palindromic Substring   \n",
              "\n",
              "                                    Question Slug  \\\n",
              "0                                         two-sum   \n",
              "1                                 add-two-numbers   \n",
              "2  longest-substring-without-repeating-characters   \n",
              "3                     median-of-two-sorted-arrays   \n",
              "4                   longest-palindromic-substring   \n",
              "\n",
              "                                       Question Text  \\\n",
              "0  Given an array of integers nums and an integer...   \n",
              "1  You are given two non-empty linked lists repre...   \n",
              "2  Given a string s, find the length of the longe...   \n",
              "3  Given two sorted arrays nums1 and nums2 of siz...   \n",
              "4  Given a string s, return the longest palindrom...   \n",
              "\n",
              "                        Topic Tagged text Difficulty Level  Success Rate  \\\n",
              "0                        Array,Hash Table             Easy          48.5   \n",
              "1              Linked List,Math,Recursion           Medium          38.5   \n",
              "2        Hash Table,String,Sliding Window           Medium          33.0   \n",
              "3  Array,Binary Search,Divide and Conquer             Hard          34.0   \n",
              "4              String,Dynamic Programming           Medium          31.8   \n",
              "\n",
              "   total submission  total accepted  Likes  Dislikes  \\\n",
              "0          13207990         6403821  31242       988   \n",
              "1           6987977         2690949  17799      3682   \n",
              "2           9621884         3175843  22941      1027   \n",
              "3           3941694         1340565  15987      1964   \n",
              "4           5618701         1784028  17097      1005   \n",
              "\n",
              "                                               Hints  \\\n",
              "0  A really brute force way would be to search fo...   \n",
              "1                                                NaN   \n",
              "2                                                NaN   \n",
              "3                                                NaN   \n",
              "4  How can we reuse a previously computed palindr...   \n",
              "\n",
              "                                Similar Questions ID  \\\n",
              "0  15,18,167,170,560,653,1083,1798,1830,2116,2133...   \n",
              "1                        43,67,371,415,445,1031,1774   \n",
              "2                             159,340,1034,1813,2209   \n",
              "3                                                NaN   \n",
              "4                                214,266,336,516,647   \n",
              "\n",
              "                              Similar Questions Text  \n",
              "0  3Sum,4Sum,Two Sum II - Input Array Is Sorted,T...  \n",
              "1  Multiply Strings,Add Binary,Sum of Two Integer...  \n",
              "2  Longest Substring with At Most Two Distinct Ch...  \n",
              "3                                                NaN  \n",
              "4  Shortest Palindrome,Palindrome Permutation,Pal...  "
            ],
            "text/html": [
              "\n",
              "  <div id=\"df-658053ea-9283-4f79-aa50-fe675eab464d\" class=\"colab-df-container\">\n",
              "    <div>\n",
              "<style scoped>\n",
              "    .dataframe tbody tr th:only-of-type {\n",
              "        vertical-align: middle;\n",
              "    }\n",
              "\n",
              "    .dataframe tbody tr th {\n",
              "        vertical-align: top;\n",
              "    }\n",
              "\n",
              "    .dataframe thead th {\n",
              "        text-align: right;\n",
              "    }\n",
              "</style>\n",
              "<table border=\"1\" class=\"dataframe\">\n",
              "  <thead>\n",
              "    <tr style=\"text-align: right;\">\n",
              "      <th></th>\n",
              "      <th>Question ID</th>\n",
              "      <th>Question Title</th>\n",
              "      <th>Question Slug</th>\n",
              "      <th>Question Text</th>\n",
              "      <th>Topic Tagged text</th>\n",
              "      <th>Difficulty Level</th>\n",
              "      <th>Success Rate</th>\n",
              "      <th>total submission</th>\n",
              "      <th>total accepted</th>\n",
              "      <th>Likes</th>\n",
              "      <th>Dislikes</th>\n",
              "      <th>Hints</th>\n",
              "      <th>Similar Questions ID</th>\n",
              "      <th>Similar Questions Text</th>\n",
              "    </tr>\n",
              "  </thead>\n",
              "  <tbody>\n",
              "    <tr>\n",
              "      <th>0</th>\n",
              "      <td>1</td>\n",
              "      <td>Two Sum</td>\n",
              "      <td>two-sum</td>\n",
              "      <td>Given an array of integers nums and an integer...</td>\n",
              "      <td>Array,Hash Table</td>\n",
              "      <td>Easy</td>\n",
              "      <td>48.5</td>\n",
              "      <td>13207990</td>\n",
              "      <td>6403821</td>\n",
              "      <td>31242</td>\n",
              "      <td>988</td>\n",
              "      <td>A really brute force way would be to search fo...</td>\n",
              "      <td>15,18,167,170,560,653,1083,1798,1830,2116,2133...</td>\n",
              "      <td>3Sum,4Sum,Two Sum II - Input Array Is Sorted,T...</td>\n",
              "    </tr>\n",
              "    <tr>\n",
              "      <th>1</th>\n",
              "      <td>2</td>\n",
              "      <td>Add Two Numbers</td>\n",
              "      <td>add-two-numbers</td>\n",
              "      <td>You are given two non-empty linked lists repre...</td>\n",
              "      <td>Linked List,Math,Recursion</td>\n",
              "      <td>Medium</td>\n",
              "      <td>38.5</td>\n",
              "      <td>6987977</td>\n",
              "      <td>2690949</td>\n",
              "      <td>17799</td>\n",
              "      <td>3682</td>\n",
              "      <td>NaN</td>\n",
              "      <td>43,67,371,415,445,1031,1774</td>\n",
              "      <td>Multiply Strings,Add Binary,Sum of Two Integer...</td>\n",
              "    </tr>\n",
              "    <tr>\n",
              "      <th>2</th>\n",
              "      <td>3</td>\n",
              "      <td>Longest Substring Without Repeating Characters</td>\n",
              "      <td>longest-substring-without-repeating-characters</td>\n",
              "      <td>Given a string s, find the length of the longe...</td>\n",
              "      <td>Hash Table,String,Sliding Window</td>\n",
              "      <td>Medium</td>\n",
              "      <td>33.0</td>\n",
              "      <td>9621884</td>\n",
              "      <td>3175843</td>\n",
              "      <td>22941</td>\n",
              "      <td>1027</td>\n",
              "      <td>NaN</td>\n",
              "      <td>159,340,1034,1813,2209</td>\n",
              "      <td>Longest Substring with At Most Two Distinct Ch...</td>\n",
              "    </tr>\n",
              "    <tr>\n",
              "      <th>3</th>\n",
              "      <td>4</td>\n",
              "      <td>Median of Two Sorted Arrays</td>\n",
              "      <td>median-of-two-sorted-arrays</td>\n",
              "      <td>Given two sorted arrays nums1 and nums2 of siz...</td>\n",
              "      <td>Array,Binary Search,Divide and Conquer</td>\n",
              "      <td>Hard</td>\n",
              "      <td>34.0</td>\n",
              "      <td>3941694</td>\n",
              "      <td>1340565</td>\n",
              "      <td>15987</td>\n",
              "      <td>1964</td>\n",
              "      <td>NaN</td>\n",
              "      <td>NaN</td>\n",
              "      <td>NaN</td>\n",
              "    </tr>\n",
              "    <tr>\n",
              "      <th>4</th>\n",
              "      <td>5</td>\n",
              "      <td>Longest Palindromic Substring</td>\n",
              "      <td>longest-palindromic-substring</td>\n",
              "      <td>Given a string s, return the longest palindrom...</td>\n",
              "      <td>String,Dynamic Programming</td>\n",
              "      <td>Medium</td>\n",
              "      <td>31.8</td>\n",
              "      <td>5618701</td>\n",
              "      <td>1784028</td>\n",
              "      <td>17097</td>\n",
              "      <td>1005</td>\n",
              "      <td>How can we reuse a previously computed palindr...</td>\n",
              "      <td>214,266,336,516,647</td>\n",
              "      <td>Shortest Palindrome,Palindrome Permutation,Pal...</td>\n",
              "    </tr>\n",
              "  </tbody>\n",
              "</table>\n",
              "</div>\n",
              "    <div class=\"colab-df-buttons\">\n",
              "\n",
              "  <div class=\"colab-df-container\">\n",
              "    <button class=\"colab-df-convert\" onclick=\"convertToInteractive('df-658053ea-9283-4f79-aa50-fe675eab464d')\"\n",
              "            title=\"Convert this dataframe to an interactive table.\"\n",
              "            style=\"display:none;\">\n",
              "\n",
              "  <svg xmlns=\"http://www.w3.org/2000/svg\" height=\"24px\" viewBox=\"0 -960 960 960\">\n",
              "    <path d=\"M120-120v-720h720v720H120Zm60-500h600v-160H180v160Zm220 220h160v-160H400v160Zm0 220h160v-160H400v160ZM180-400h160v-160H180v160Zm440 0h160v-160H620v160ZM180-180h160v-160H180v160Zm440 0h160v-160H620v160Z\"/>\n",
              "  </svg>\n",
              "    </button>\n",
              "\n",
              "  <style>\n",
              "    .colab-df-container {\n",
              "      display:flex;\n",
              "      gap: 12px;\n",
              "    }\n",
              "\n",
              "    .colab-df-convert {\n",
              "      background-color: #E8F0FE;\n",
              "      border: none;\n",
              "      border-radius: 50%;\n",
              "      cursor: pointer;\n",
              "      display: none;\n",
              "      fill: #1967D2;\n",
              "      height: 32px;\n",
              "      padding: 0 0 0 0;\n",
              "      width: 32px;\n",
              "    }\n",
              "\n",
              "    .colab-df-convert:hover {\n",
              "      background-color: #E2EBFA;\n",
              "      box-shadow: 0px 1px 2px rgba(60, 64, 67, 0.3), 0px 1px 3px 1px rgba(60, 64, 67, 0.15);\n",
              "      fill: #174EA6;\n",
              "    }\n",
              "\n",
              "    .colab-df-buttons div {\n",
              "      margin-bottom: 4px;\n",
              "    }\n",
              "\n",
              "    [theme=dark] .colab-df-convert {\n",
              "      background-color: #3B4455;\n",
              "      fill: #D2E3FC;\n",
              "    }\n",
              "\n",
              "    [theme=dark] .colab-df-convert:hover {\n",
              "      background-color: #434B5C;\n",
              "      box-shadow: 0px 1px 3px 1px rgba(0, 0, 0, 0.15);\n",
              "      filter: drop-shadow(0px 1px 2px rgba(0, 0, 0, 0.3));\n",
              "      fill: #FFFFFF;\n",
              "    }\n",
              "  </style>\n",
              "\n",
              "    <script>\n",
              "      const buttonEl =\n",
              "        document.querySelector('#df-658053ea-9283-4f79-aa50-fe675eab464d button.colab-df-convert');\n",
              "      buttonEl.style.display =\n",
              "        google.colab.kernel.accessAllowed ? 'block' : 'none';\n",
              "\n",
              "      async function convertToInteractive(key) {\n",
              "        const element = document.querySelector('#df-658053ea-9283-4f79-aa50-fe675eab464d');\n",
              "        const dataTable =\n",
              "          await google.colab.kernel.invokeFunction('convertToInteractive',\n",
              "                                                    [key], {});\n",
              "        if (!dataTable) return;\n",
              "\n",
              "        const docLinkHtml = 'Like what you see? Visit the ' +\n",
              "          '<a target=\"_blank\" href=https://colab.research.google.com/notebooks/data_table.ipynb>data table notebook</a>'\n",
              "          + ' to learn more about interactive tables.';\n",
              "        element.innerHTML = '';\n",
              "        dataTable['output_type'] = 'display_data';\n",
              "        await google.colab.output.renderOutput(dataTable, element);\n",
              "        const docLink = document.createElement('div');\n",
              "        docLink.innerHTML = docLinkHtml;\n",
              "        element.appendChild(docLink);\n",
              "      }\n",
              "    </script>\n",
              "  </div>\n",
              "\n",
              "\n",
              "<div id=\"df-bac31d4b-4836-4734-b71e-4fbf98963f35\">\n",
              "  <button class=\"colab-df-quickchart\" onclick=\"quickchart('df-bac31d4b-4836-4734-b71e-4fbf98963f35')\"\n",
              "            title=\"Suggest charts.\"\n",
              "            style=\"display:none;\">\n",
              "\n",
              "<svg xmlns=\"http://www.w3.org/2000/svg\" height=\"24px\"viewBox=\"0 0 24 24\"\n",
              "     width=\"24px\">\n",
              "    <g>\n",
              "        <path d=\"M19 3H5c-1.1 0-2 .9-2 2v14c0 1.1.9 2 2 2h14c1.1 0 2-.9 2-2V5c0-1.1-.9-2-2-2zM9 17H7v-7h2v7zm4 0h-2V7h2v10zm4 0h-2v-4h2v4z\"/>\n",
              "    </g>\n",
              "</svg>\n",
              "  </button>\n",
              "\n",
              "<style>\n",
              "  .colab-df-quickchart {\n",
              "      --bg-color: #E8F0FE;\n",
              "      --fill-color: #1967D2;\n",
              "      --hover-bg-color: #E2EBFA;\n",
              "      --hover-fill-color: #174EA6;\n",
              "      --disabled-fill-color: #AAA;\n",
              "      --disabled-bg-color: #DDD;\n",
              "  }\n",
              "\n",
              "  [theme=dark] .colab-df-quickchart {\n",
              "      --bg-color: #3B4455;\n",
              "      --fill-color: #D2E3FC;\n",
              "      --hover-bg-color: #434B5C;\n",
              "      --hover-fill-color: #FFFFFF;\n",
              "      --disabled-bg-color: #3B4455;\n",
              "      --disabled-fill-color: #666;\n",
              "  }\n",
              "\n",
              "  .colab-df-quickchart {\n",
              "    background-color: var(--bg-color);\n",
              "    border: none;\n",
              "    border-radius: 50%;\n",
              "    cursor: pointer;\n",
              "    display: none;\n",
              "    fill: var(--fill-color);\n",
              "    height: 32px;\n",
              "    padding: 0;\n",
              "    width: 32px;\n",
              "  }\n",
              "\n",
              "  .colab-df-quickchart:hover {\n",
              "    background-color: var(--hover-bg-color);\n",
              "    box-shadow: 0 1px 2px rgba(60, 64, 67, 0.3), 0 1px 3px 1px rgba(60, 64, 67, 0.15);\n",
              "    fill: var(--button-hover-fill-color);\n",
              "  }\n",
              "\n",
              "  .colab-df-quickchart-complete:disabled,\n",
              "  .colab-df-quickchart-complete:disabled:hover {\n",
              "    background-color: var(--disabled-bg-color);\n",
              "    fill: var(--disabled-fill-color);\n",
              "    box-shadow: none;\n",
              "  }\n",
              "\n",
              "  .colab-df-spinner {\n",
              "    border: 2px solid var(--fill-color);\n",
              "    border-color: transparent;\n",
              "    border-bottom-color: var(--fill-color);\n",
              "    animation:\n",
              "      spin 1s steps(1) infinite;\n",
              "  }\n",
              "\n",
              "  @keyframes spin {\n",
              "    0% {\n",
              "      border-color: transparent;\n",
              "      border-bottom-color: var(--fill-color);\n",
              "      border-left-color: var(--fill-color);\n",
              "    }\n",
              "    20% {\n",
              "      border-color: transparent;\n",
              "      border-left-color: var(--fill-color);\n",
              "      border-top-color: var(--fill-color);\n",
              "    }\n",
              "    30% {\n",
              "      border-color: transparent;\n",
              "      border-left-color: var(--fill-color);\n",
              "      border-top-color: var(--fill-color);\n",
              "      border-right-color: var(--fill-color);\n",
              "    }\n",
              "    40% {\n",
              "      border-color: transparent;\n",
              "      border-right-color: var(--fill-color);\n",
              "      border-top-color: var(--fill-color);\n",
              "    }\n",
              "    60% {\n",
              "      border-color: transparent;\n",
              "      border-right-color: var(--fill-color);\n",
              "    }\n",
              "    80% {\n",
              "      border-color: transparent;\n",
              "      border-right-color: var(--fill-color);\n",
              "      border-bottom-color: var(--fill-color);\n",
              "    }\n",
              "    90% {\n",
              "      border-color: transparent;\n",
              "      border-bottom-color: var(--fill-color);\n",
              "    }\n",
              "  }\n",
              "</style>\n",
              "\n",
              "  <script>\n",
              "    async function quickchart(key) {\n",
              "      const quickchartButtonEl =\n",
              "        document.querySelector('#' + key + ' button');\n",
              "      quickchartButtonEl.disabled = true;  // To prevent multiple clicks.\n",
              "      quickchartButtonEl.classList.add('colab-df-spinner');\n",
              "      try {\n",
              "        const charts = await google.colab.kernel.invokeFunction(\n",
              "            'suggestCharts', [key], {});\n",
              "      } catch (error) {\n",
              "        console.error('Error during call to suggestCharts:', error);\n",
              "      }\n",
              "      quickchartButtonEl.classList.remove('colab-df-spinner');\n",
              "      quickchartButtonEl.classList.add('colab-df-quickchart-complete');\n",
              "    }\n",
              "    (() => {\n",
              "      let quickchartButtonEl =\n",
              "        document.querySelector('#df-bac31d4b-4836-4734-b71e-4fbf98963f35 button');\n",
              "      quickchartButtonEl.style.display =\n",
              "        google.colab.kernel.accessAllowed ? 'block' : 'none';\n",
              "    })();\n",
              "  </script>\n",
              "</div>\n",
              "    </div>\n",
              "  </div>\n"
            ]
          },
          "metadata": {},
          "execution_count": 13
        }
      ]
    },
    {
      "cell_type": "code",
      "source": [
        "df.describe()"
      ],
      "metadata": {
        "colab": {
          "base_uri": "https://localhost:8080/",
          "height": 300
        },
        "id": "Ncl0jvFoZXeJ",
        "outputId": "595c832e-9833-4375-d151-159d1e3374ac"
      },
      "execution_count": null,
      "outputs": [
        {
          "output_type": "execute_result",
          "data": {
            "text/plain": [
              "       Question ID  Success Rate  total submission  total accepted  \\\n",
              "count  2238.000000   2238.000000      2.238000e+03    2.238000e+03   \n",
              "mean   1167.623771     54.655183      3.031581e+05    1.490713e+05   \n",
              "std     683.282653     14.888963      7.030231e+05    3.129114e+05   \n",
              "min       1.000000     14.200000      1.860000e+02    1.530000e+02   \n",
              "25%     572.250000     43.400000      3.095125e+04    1.614050e+04   \n",
              "50%    1161.500000     53.600000      7.823550e+04    4.039100e+04   \n",
              "75%    1762.750000     64.775000      2.514222e+05    1.398235e+05   \n",
              "max    2385.000000     95.500000      1.320799e+07    6.403821e+06   \n",
              "\n",
              "              Likes      Dislikes  \n",
              "count   2238.000000   2238.000000  \n",
              "mean    1546.308758    299.155496  \n",
              "std     2406.645588    708.811722  \n",
              "min        4.000000      0.000000  \n",
              "25%      273.500000     31.000000  \n",
              "50%      651.500000     97.000000  \n",
              "75%     1662.250000    256.000000  \n",
              "max    31242.000000  11520.000000  "
            ],
            "text/html": [
              "\n",
              "  <div id=\"df-81f76d02-f62c-475d-8649-e73e1f732970\" class=\"colab-df-container\">\n",
              "    <div>\n",
              "<style scoped>\n",
              "    .dataframe tbody tr th:only-of-type {\n",
              "        vertical-align: middle;\n",
              "    }\n",
              "\n",
              "    .dataframe tbody tr th {\n",
              "        vertical-align: top;\n",
              "    }\n",
              "\n",
              "    .dataframe thead th {\n",
              "        text-align: right;\n",
              "    }\n",
              "</style>\n",
              "<table border=\"1\" class=\"dataframe\">\n",
              "  <thead>\n",
              "    <tr style=\"text-align: right;\">\n",
              "      <th></th>\n",
              "      <th>Question ID</th>\n",
              "      <th>Success Rate</th>\n",
              "      <th>total submission</th>\n",
              "      <th>total accepted</th>\n",
              "      <th>Likes</th>\n",
              "      <th>Dislikes</th>\n",
              "    </tr>\n",
              "  </thead>\n",
              "  <tbody>\n",
              "    <tr>\n",
              "      <th>count</th>\n",
              "      <td>2238.000000</td>\n",
              "      <td>2238.000000</td>\n",
              "      <td>2.238000e+03</td>\n",
              "      <td>2.238000e+03</td>\n",
              "      <td>2238.000000</td>\n",
              "      <td>2238.000000</td>\n",
              "    </tr>\n",
              "    <tr>\n",
              "      <th>mean</th>\n",
              "      <td>1167.623771</td>\n",
              "      <td>54.655183</td>\n",
              "      <td>3.031581e+05</td>\n",
              "      <td>1.490713e+05</td>\n",
              "      <td>1546.308758</td>\n",
              "      <td>299.155496</td>\n",
              "    </tr>\n",
              "    <tr>\n",
              "      <th>std</th>\n",
              "      <td>683.282653</td>\n",
              "      <td>14.888963</td>\n",
              "      <td>7.030231e+05</td>\n",
              "      <td>3.129114e+05</td>\n",
              "      <td>2406.645588</td>\n",
              "      <td>708.811722</td>\n",
              "    </tr>\n",
              "    <tr>\n",
              "      <th>min</th>\n",
              "      <td>1.000000</td>\n",
              "      <td>14.200000</td>\n",
              "      <td>1.860000e+02</td>\n",
              "      <td>1.530000e+02</td>\n",
              "      <td>4.000000</td>\n",
              "      <td>0.000000</td>\n",
              "    </tr>\n",
              "    <tr>\n",
              "      <th>25%</th>\n",
              "      <td>572.250000</td>\n",
              "      <td>43.400000</td>\n",
              "      <td>3.095125e+04</td>\n",
              "      <td>1.614050e+04</td>\n",
              "      <td>273.500000</td>\n",
              "      <td>31.000000</td>\n",
              "    </tr>\n",
              "    <tr>\n",
              "      <th>50%</th>\n",
              "      <td>1161.500000</td>\n",
              "      <td>53.600000</td>\n",
              "      <td>7.823550e+04</td>\n",
              "      <td>4.039100e+04</td>\n",
              "      <td>651.500000</td>\n",
              "      <td>97.000000</td>\n",
              "    </tr>\n",
              "    <tr>\n",
              "      <th>75%</th>\n",
              "      <td>1762.750000</td>\n",
              "      <td>64.775000</td>\n",
              "      <td>2.514222e+05</td>\n",
              "      <td>1.398235e+05</td>\n",
              "      <td>1662.250000</td>\n",
              "      <td>256.000000</td>\n",
              "    </tr>\n",
              "    <tr>\n",
              "      <th>max</th>\n",
              "      <td>2385.000000</td>\n",
              "      <td>95.500000</td>\n",
              "      <td>1.320799e+07</td>\n",
              "      <td>6.403821e+06</td>\n",
              "      <td>31242.000000</td>\n",
              "      <td>11520.000000</td>\n",
              "    </tr>\n",
              "  </tbody>\n",
              "</table>\n",
              "</div>\n",
              "    <div class=\"colab-df-buttons\">\n",
              "\n",
              "  <div class=\"colab-df-container\">\n",
              "    <button class=\"colab-df-convert\" onclick=\"convertToInteractive('df-81f76d02-f62c-475d-8649-e73e1f732970')\"\n",
              "            title=\"Convert this dataframe to an interactive table.\"\n",
              "            style=\"display:none;\">\n",
              "\n",
              "  <svg xmlns=\"http://www.w3.org/2000/svg\" height=\"24px\" viewBox=\"0 -960 960 960\">\n",
              "    <path d=\"M120-120v-720h720v720H120Zm60-500h600v-160H180v160Zm220 220h160v-160H400v160Zm0 220h160v-160H400v160ZM180-400h160v-160H180v160Zm440 0h160v-160H620v160ZM180-180h160v-160H180v160Zm440 0h160v-160H620v160Z\"/>\n",
              "  </svg>\n",
              "    </button>\n",
              "\n",
              "  <style>\n",
              "    .colab-df-container {\n",
              "      display:flex;\n",
              "      gap: 12px;\n",
              "    }\n",
              "\n",
              "    .colab-df-convert {\n",
              "      background-color: #E8F0FE;\n",
              "      border: none;\n",
              "      border-radius: 50%;\n",
              "      cursor: pointer;\n",
              "      display: none;\n",
              "      fill: #1967D2;\n",
              "      height: 32px;\n",
              "      padding: 0 0 0 0;\n",
              "      width: 32px;\n",
              "    }\n",
              "\n",
              "    .colab-df-convert:hover {\n",
              "      background-color: #E2EBFA;\n",
              "      box-shadow: 0px 1px 2px rgba(60, 64, 67, 0.3), 0px 1px 3px 1px rgba(60, 64, 67, 0.15);\n",
              "      fill: #174EA6;\n",
              "    }\n",
              "\n",
              "    .colab-df-buttons div {\n",
              "      margin-bottom: 4px;\n",
              "    }\n",
              "\n",
              "    [theme=dark] .colab-df-convert {\n",
              "      background-color: #3B4455;\n",
              "      fill: #D2E3FC;\n",
              "    }\n",
              "\n",
              "    [theme=dark] .colab-df-convert:hover {\n",
              "      background-color: #434B5C;\n",
              "      box-shadow: 0px 1px 3px 1px rgba(0, 0, 0, 0.15);\n",
              "      filter: drop-shadow(0px 1px 2px rgba(0, 0, 0, 0.3));\n",
              "      fill: #FFFFFF;\n",
              "    }\n",
              "  </style>\n",
              "\n",
              "    <script>\n",
              "      const buttonEl =\n",
              "        document.querySelector('#df-81f76d02-f62c-475d-8649-e73e1f732970 button.colab-df-convert');\n",
              "      buttonEl.style.display =\n",
              "        google.colab.kernel.accessAllowed ? 'block' : 'none';\n",
              "\n",
              "      async function convertToInteractive(key) {\n",
              "        const element = document.querySelector('#df-81f76d02-f62c-475d-8649-e73e1f732970');\n",
              "        const dataTable =\n",
              "          await google.colab.kernel.invokeFunction('convertToInteractive',\n",
              "                                                    [key], {});\n",
              "        if (!dataTable) return;\n",
              "\n",
              "        const docLinkHtml = 'Like what you see? Visit the ' +\n",
              "          '<a target=\"_blank\" href=https://colab.research.google.com/notebooks/data_table.ipynb>data table notebook</a>'\n",
              "          + ' to learn more about interactive tables.';\n",
              "        element.innerHTML = '';\n",
              "        dataTable['output_type'] = 'display_data';\n",
              "        await google.colab.output.renderOutput(dataTable, element);\n",
              "        const docLink = document.createElement('div');\n",
              "        docLink.innerHTML = docLinkHtml;\n",
              "        element.appendChild(docLink);\n",
              "      }\n",
              "    </script>\n",
              "  </div>\n",
              "\n",
              "\n",
              "<div id=\"df-d747556f-b197-44d2-8829-b108874bfb5e\">\n",
              "  <button class=\"colab-df-quickchart\" onclick=\"quickchart('df-d747556f-b197-44d2-8829-b108874bfb5e')\"\n",
              "            title=\"Suggest charts.\"\n",
              "            style=\"display:none;\">\n",
              "\n",
              "<svg xmlns=\"http://www.w3.org/2000/svg\" height=\"24px\"viewBox=\"0 0 24 24\"\n",
              "     width=\"24px\">\n",
              "    <g>\n",
              "        <path d=\"M19 3H5c-1.1 0-2 .9-2 2v14c0 1.1.9 2 2 2h14c1.1 0 2-.9 2-2V5c0-1.1-.9-2-2-2zM9 17H7v-7h2v7zm4 0h-2V7h2v10zm4 0h-2v-4h2v4z\"/>\n",
              "    </g>\n",
              "</svg>\n",
              "  </button>\n",
              "\n",
              "<style>\n",
              "  .colab-df-quickchart {\n",
              "      --bg-color: #E8F0FE;\n",
              "      --fill-color: #1967D2;\n",
              "      --hover-bg-color: #E2EBFA;\n",
              "      --hover-fill-color: #174EA6;\n",
              "      --disabled-fill-color: #AAA;\n",
              "      --disabled-bg-color: #DDD;\n",
              "  }\n",
              "\n",
              "  [theme=dark] .colab-df-quickchart {\n",
              "      --bg-color: #3B4455;\n",
              "      --fill-color: #D2E3FC;\n",
              "      --hover-bg-color: #434B5C;\n",
              "      --hover-fill-color: #FFFFFF;\n",
              "      --disabled-bg-color: #3B4455;\n",
              "      --disabled-fill-color: #666;\n",
              "  }\n",
              "\n",
              "  .colab-df-quickchart {\n",
              "    background-color: var(--bg-color);\n",
              "    border: none;\n",
              "    border-radius: 50%;\n",
              "    cursor: pointer;\n",
              "    display: none;\n",
              "    fill: var(--fill-color);\n",
              "    height: 32px;\n",
              "    padding: 0;\n",
              "    width: 32px;\n",
              "  }\n",
              "\n",
              "  .colab-df-quickchart:hover {\n",
              "    background-color: var(--hover-bg-color);\n",
              "    box-shadow: 0 1px 2px rgba(60, 64, 67, 0.3), 0 1px 3px 1px rgba(60, 64, 67, 0.15);\n",
              "    fill: var(--button-hover-fill-color);\n",
              "  }\n",
              "\n",
              "  .colab-df-quickchart-complete:disabled,\n",
              "  .colab-df-quickchart-complete:disabled:hover {\n",
              "    background-color: var(--disabled-bg-color);\n",
              "    fill: var(--disabled-fill-color);\n",
              "    box-shadow: none;\n",
              "  }\n",
              "\n",
              "  .colab-df-spinner {\n",
              "    border: 2px solid var(--fill-color);\n",
              "    border-color: transparent;\n",
              "    border-bottom-color: var(--fill-color);\n",
              "    animation:\n",
              "      spin 1s steps(1) infinite;\n",
              "  }\n",
              "\n",
              "  @keyframes spin {\n",
              "    0% {\n",
              "      border-color: transparent;\n",
              "      border-bottom-color: var(--fill-color);\n",
              "      border-left-color: var(--fill-color);\n",
              "    }\n",
              "    20% {\n",
              "      border-color: transparent;\n",
              "      border-left-color: var(--fill-color);\n",
              "      border-top-color: var(--fill-color);\n",
              "    }\n",
              "    30% {\n",
              "      border-color: transparent;\n",
              "      border-left-color: var(--fill-color);\n",
              "      border-top-color: var(--fill-color);\n",
              "      border-right-color: var(--fill-color);\n",
              "    }\n",
              "    40% {\n",
              "      border-color: transparent;\n",
              "      border-right-color: var(--fill-color);\n",
              "      border-top-color: var(--fill-color);\n",
              "    }\n",
              "    60% {\n",
              "      border-color: transparent;\n",
              "      border-right-color: var(--fill-color);\n",
              "    }\n",
              "    80% {\n",
              "      border-color: transparent;\n",
              "      border-right-color: var(--fill-color);\n",
              "      border-bottom-color: var(--fill-color);\n",
              "    }\n",
              "    90% {\n",
              "      border-color: transparent;\n",
              "      border-bottom-color: var(--fill-color);\n",
              "    }\n",
              "  }\n",
              "</style>\n",
              "\n",
              "  <script>\n",
              "    async function quickchart(key) {\n",
              "      const quickchartButtonEl =\n",
              "        document.querySelector('#' + key + ' button');\n",
              "      quickchartButtonEl.disabled = true;  // To prevent multiple clicks.\n",
              "      quickchartButtonEl.classList.add('colab-df-spinner');\n",
              "      try {\n",
              "        const charts = await google.colab.kernel.invokeFunction(\n",
              "            'suggestCharts', [key], {});\n",
              "      } catch (error) {\n",
              "        console.error('Error during call to suggestCharts:', error);\n",
              "      }\n",
              "      quickchartButtonEl.classList.remove('colab-df-spinner');\n",
              "      quickchartButtonEl.classList.add('colab-df-quickchart-complete');\n",
              "    }\n",
              "    (() => {\n",
              "      let quickchartButtonEl =\n",
              "        document.querySelector('#df-d747556f-b197-44d2-8829-b108874bfb5e button');\n",
              "      quickchartButtonEl.style.display =\n",
              "        google.colab.kernel.accessAllowed ? 'block' : 'none';\n",
              "    })();\n",
              "  </script>\n",
              "</div>\n",
              "    </div>\n",
              "  </div>\n"
            ]
          },
          "metadata": {},
          "execution_count": 14
        }
      ]
    },
    {
      "cell_type": "code",
      "source": [
        "df.shape"
      ],
      "metadata": {
        "colab": {
          "base_uri": "https://localhost:8080/"
        },
        "id": "ABwPpYQ_cWDE",
        "outputId": "cafbbabb-2f62-4521-b7bb-dddac8a44bea"
      },
      "execution_count": null,
      "outputs": [
        {
          "output_type": "execute_result",
          "data": {
            "text/plain": [
              "(2238, 14)"
            ]
          },
          "metadata": {},
          "execution_count": 15
        }
      ]
    },
    {
      "cell_type": "code",
      "source": [
        "len(df['Question ID'].unique())"
      ],
      "metadata": {
        "colab": {
          "base_uri": "https://localhost:8080/"
        },
        "id": "fuTwKgvZccua",
        "outputId": "bf10660c-7f2b-451b-9554-eaf96d013b23"
      },
      "execution_count": null,
      "outputs": [
        {
          "output_type": "execute_result",
          "data": {
            "text/plain": [
              "2238"
            ]
          },
          "metadata": {},
          "execution_count": 16
        }
      ]
    },
    {
      "cell_type": "code",
      "source": [
        "df.columns"
      ],
      "metadata": {
        "colab": {
          "base_uri": "https://localhost:8080/"
        },
        "id": "lKEALkF2ggfJ",
        "outputId": "36b8b214-dfa2-4ae6-c132-536274afc310"
      },
      "execution_count": null,
      "outputs": [
        {
          "output_type": "execute_result",
          "data": {
            "text/plain": [
              "Index(['Question ID', 'Question Title', 'Question Slug', 'Question Text',\n",
              "       'Topic Tagged text', 'Difficulty Level', 'Success Rate',\n",
              "       'total submission', 'total accepted', 'Likes', 'Dislikes', 'Hints',\n",
              "       'Similar Questions ID', 'Similar Questions Text'],\n",
              "      dtype='object')"
            ]
          },
          "metadata": {},
          "execution_count": 17
        }
      ]
    },
    {
      "cell_type": "code",
      "source": [
        "df['Question Text']"
      ],
      "metadata": {
        "colab": {
          "base_uri": "https://localhost:8080/"
        },
        "id": "SzWVXlYAqu2T",
        "outputId": "e8b93ef7-1cc9-4c89-f083-5468bb15942b"
      },
      "execution_count": null,
      "outputs": [
        {
          "output_type": "execute_result",
          "data": {
            "text/plain": [
              "0       Given an array of integers nums and an integer...\n",
              "1       You are given two non-empty linked lists repre...\n",
              "2       Given a string s, find the length of the longe...\n",
              "3       Given two sorted arrays nums1 and nums2 of siz...\n",
              "4       Given a string s, return the longest palindrom...\n",
              "                              ...                        \n",
              "2233                                                  NaN\n",
              "2234                                                  NaN\n",
              "2235                                                  NaN\n",
              "2236    You are given the root of a binary tree that c...\n",
              "2237                                                  NaN\n",
              "Name: Question Text, Length: 2238, dtype: object"
            ]
          },
          "metadata": {},
          "execution_count": 18
        }
      ]
    },
    {
      "cell_type": "code",
      "source": [
        "df['Question Text'] = df['Question Text'].fillna('')"
      ],
      "metadata": {
        "id": "hf5bSzzMv1tz"
      },
      "execution_count": null,
      "outputs": []
    },
    {
      "cell_type": "code",
      "source": [
        "df['Question Text']"
      ],
      "metadata": {
        "colab": {
          "base_uri": "https://localhost:8080/"
        },
        "id": "j8nigJarxEpW",
        "outputId": "d7c0cd8d-5958-4e6b-d1c0-7f3da881398f"
      },
      "execution_count": null,
      "outputs": [
        {
          "output_type": "execute_result",
          "data": {
            "text/plain": [
              "0       Given an array of integers nums and an integer...\n",
              "1       You are given two non-empty linked lists repre...\n",
              "2       Given a string s, find the length of the longe...\n",
              "3       Given two sorted arrays nums1 and nums2 of siz...\n",
              "4       Given a string s, return the longest palindrom...\n",
              "                              ...                        \n",
              "2233                                                     \n",
              "2234                                                     \n",
              "2235                                                     \n",
              "2236    You are given the root of a binary tree that c...\n",
              "2237                                                     \n",
              "Name: Question Text, Length: 2238, dtype: object"
            ]
          },
          "metadata": {},
          "execution_count": 20
        }
      ]
    },
    {
      "cell_type": "code",
      "source": [
        "def func(text):\n",
        "  # Remove all special characters using regular expressions\n",
        "  cleaned_text = re.sub(r'[^a-zA-Z0-9\\s]', '', text)\n",
        "  cleaned_text=cleaned_text.lower()\n",
        "  return cleaned_text"
      ],
      "metadata": {
        "id": "IiU8pt3dEUVw"
      },
      "execution_count": null,
      "outputs": []
    },
    {
      "cell_type": "code",
      "source": [
        "df['Question Text']=df['Question Text'].apply(func)"
      ],
      "metadata": {
        "id": "axWWyw2Hz5Lu"
      },
      "execution_count": null,
      "outputs": []
    },
    {
      "cell_type": "code",
      "source": [
        "df['Question Text']"
      ],
      "metadata": {
        "colab": {
          "base_uri": "https://localhost:8080/"
        },
        "id": "lq4uOUnMEwzs",
        "outputId": "b830dc87-3cea-4460-ac0b-a5ce2c0b1884"
      },
      "execution_count": null,
      "outputs": [
        {
          "output_type": "execute_result",
          "data": {
            "text/plain": [
              "0       given an array of integers nums and an integer...\n",
              "1       you are given two nonempty linked lists repres...\n",
              "2       given a string s find the length of the longes...\n",
              "3       given two sorted arrays nums1 and nums2 of siz...\n",
              "4       given a string s return the longest palindromi...\n",
              "                              ...                        \n",
              "2233                                                     \n",
              "2234                                                     \n",
              "2235                                                     \n",
              "2236    you are given the root of a binary tree that c...\n",
              "2237                                                     \n",
              "Name: Question Text, Length: 2238, dtype: object"
            ]
          },
          "metadata": {},
          "execution_count": 23
        }
      ]
    },
    {
      "cell_type": "code",
      "source": [
        "question1=df['Question Text'].tolist()"
      ],
      "metadata": {
        "id": "a-A8yGcbEm3O"
      },
      "execution_count": null,
      "outputs": []
    },
    {
      "cell_type": "code",
      "source": [
        "questions = [item for item in question1 if item != \"\"]\n"
      ],
      "metadata": {
        "id": "jyvmRx2lwBXK"
      },
      "execution_count": null,
      "outputs": []
    },
    {
      "cell_type": "code",
      "source": [
        "!pip install -U sentence-transformers"
      ],
      "metadata": {
        "colab": {
          "base_uri": "https://localhost:8080/"
        },
        "id": "KvzIDy27eqBm",
        "outputId": "fd1b4004-10f2-442f-c7c1-66f89ebc2bbe"
      },
      "execution_count": null,
      "outputs": [
        {
          "output_type": "stream",
          "name": "stdout",
          "text": [
            "Collecting sentence-transformers\n",
            "  Downloading sentence-transformers-2.2.2.tar.gz (85 kB)\n",
            "\u001b[2K     \u001b[90m━━━━━━━━━━━━━━━━━━━━━━━━━━━━━━━━━━━━━━━━\u001b[0m \u001b[32m86.0/86.0 kB\u001b[0m \u001b[31m985.4 kB/s\u001b[0m eta \u001b[36m0:00:00\u001b[0m\n",
            "\u001b[?25h  Preparing metadata (setup.py) ... \u001b[?25l\u001b[?25hdone\n",
            "Requirement already satisfied: transformers<5.0.0,>=4.6.0 in /usr/local/lib/python3.10/dist-packages (from sentence-transformers) (4.34.1)\n",
            "Requirement already satisfied: tqdm in /usr/local/lib/python3.10/dist-packages (from sentence-transformers) (4.66.1)\n",
            "Requirement already satisfied: torch>=1.6.0 in /usr/local/lib/python3.10/dist-packages (from sentence-transformers) (2.1.0+cu118)\n",
            "Requirement already satisfied: torchvision in /usr/local/lib/python3.10/dist-packages (from sentence-transformers) (0.16.0+cu118)\n",
            "Requirement already satisfied: numpy in /usr/local/lib/python3.10/dist-packages (from sentence-transformers) (1.23.5)\n",
            "Requirement already satisfied: scikit-learn in /usr/local/lib/python3.10/dist-packages (from sentence-transformers) (1.2.2)\n",
            "Requirement already satisfied: scipy in /usr/local/lib/python3.10/dist-packages (from sentence-transformers) (1.11.3)\n",
            "Requirement already satisfied: nltk in /usr/local/lib/python3.10/dist-packages (from sentence-transformers) (3.8.1)\n",
            "Collecting sentencepiece (from sentence-transformers)\n",
            "  Downloading sentencepiece-0.1.99-cp310-cp310-manylinux_2_17_x86_64.manylinux2014_x86_64.whl (1.3 MB)\n",
            "\u001b[2K     \u001b[90m━━━━━━━━━━━━━━━━━━━━━━━━━━━━━━━━━━━━━━━━\u001b[0m \u001b[32m1.3/1.3 MB\u001b[0m \u001b[31m15.4 MB/s\u001b[0m eta \u001b[36m0:00:00\u001b[0m\n",
            "\u001b[?25hRequirement already satisfied: huggingface-hub>=0.4.0 in /usr/local/lib/python3.10/dist-packages (from sentence-transformers) (0.17.3)\n",
            "Requirement already satisfied: filelock in /usr/local/lib/python3.10/dist-packages (from huggingface-hub>=0.4.0->sentence-transformers) (3.12.4)\n",
            "Requirement already satisfied: fsspec in /usr/local/lib/python3.10/dist-packages (from huggingface-hub>=0.4.0->sentence-transformers) (2023.6.0)\n",
            "Requirement already satisfied: requests in /usr/local/lib/python3.10/dist-packages (from huggingface-hub>=0.4.0->sentence-transformers) (2.31.0)\n",
            "Requirement already satisfied: pyyaml>=5.1 in /usr/local/lib/python3.10/dist-packages (from huggingface-hub>=0.4.0->sentence-transformers) (6.0.1)\n",
            "Requirement already satisfied: typing-extensions>=3.7.4.3 in /usr/local/lib/python3.10/dist-packages (from huggingface-hub>=0.4.0->sentence-transformers) (4.5.0)\n",
            "Requirement already satisfied: packaging>=20.9 in /usr/local/lib/python3.10/dist-packages (from huggingface-hub>=0.4.0->sentence-transformers) (23.2)\n",
            "Requirement already satisfied: sympy in /usr/local/lib/python3.10/dist-packages (from torch>=1.6.0->sentence-transformers) (1.12)\n",
            "Requirement already satisfied: networkx in /usr/local/lib/python3.10/dist-packages (from torch>=1.6.0->sentence-transformers) (3.2)\n",
            "Requirement already satisfied: jinja2 in /usr/local/lib/python3.10/dist-packages (from torch>=1.6.0->sentence-transformers) (3.1.2)\n",
            "Requirement already satisfied: triton==2.1.0 in /usr/local/lib/python3.10/dist-packages (from torch>=1.6.0->sentence-transformers) (2.1.0)\n",
            "Requirement already satisfied: regex!=2019.12.17 in /usr/local/lib/python3.10/dist-packages (from transformers<5.0.0,>=4.6.0->sentence-transformers) (2023.6.3)\n",
            "Requirement already satisfied: tokenizers<0.15,>=0.14 in /usr/local/lib/python3.10/dist-packages (from transformers<5.0.0,>=4.6.0->sentence-transformers) (0.14.1)\n",
            "Requirement already satisfied: safetensors>=0.3.1 in /usr/local/lib/python3.10/dist-packages (from transformers<5.0.0,>=4.6.0->sentence-transformers) (0.4.0)\n",
            "Requirement already satisfied: click in /usr/local/lib/python3.10/dist-packages (from nltk->sentence-transformers) (8.1.7)\n",
            "Requirement already satisfied: joblib in /usr/local/lib/python3.10/dist-packages (from nltk->sentence-transformers) (1.3.2)\n",
            "Requirement already satisfied: threadpoolctl>=2.0.0 in /usr/local/lib/python3.10/dist-packages (from scikit-learn->sentence-transformers) (3.2.0)\n",
            "Requirement already satisfied: pillow!=8.3.*,>=5.3.0 in /usr/local/lib/python3.10/dist-packages (from torchvision->sentence-transformers) (9.4.0)\n",
            "Requirement already satisfied: MarkupSafe>=2.0 in /usr/local/lib/python3.10/dist-packages (from jinja2->torch>=1.6.0->sentence-transformers) (2.1.3)\n",
            "Requirement already satisfied: charset-normalizer<4,>=2 in /usr/local/lib/python3.10/dist-packages (from requests->huggingface-hub>=0.4.0->sentence-transformers) (3.3.1)\n",
            "Requirement already satisfied: idna<4,>=2.5 in /usr/local/lib/python3.10/dist-packages (from requests->huggingface-hub>=0.4.0->sentence-transformers) (3.4)\n",
            "Requirement already satisfied: urllib3<3,>=1.21.1 in /usr/local/lib/python3.10/dist-packages (from requests->huggingface-hub>=0.4.0->sentence-transformers) (2.0.7)\n",
            "Requirement already satisfied: certifi>=2017.4.17 in /usr/local/lib/python3.10/dist-packages (from requests->huggingface-hub>=0.4.0->sentence-transformers) (2023.7.22)\n",
            "Requirement already satisfied: mpmath>=0.19 in /usr/local/lib/python3.10/dist-packages (from sympy->torch>=1.6.0->sentence-transformers) (1.3.0)\n",
            "Building wheels for collected packages: sentence-transformers\n",
            "  Building wheel for sentence-transformers (setup.py) ... \u001b[?25l\u001b[?25hdone\n",
            "  Created wheel for sentence-transformers: filename=sentence_transformers-2.2.2-py3-none-any.whl size=125923 sha256=11e22cadcc28f76f96da3b0c467f2068873c20aab7983c2a74ea48fdac6da264\n",
            "  Stored in directory: /root/.cache/pip/wheels/62/f2/10/1e606fd5f02395388f74e7462910fe851042f97238cbbd902f\n",
            "Successfully built sentence-transformers\n",
            "Installing collected packages: sentencepiece, sentence-transformers\n",
            "Successfully installed sentence-transformers-2.2.2 sentencepiece-0.1.99\n"
          ]
        }
      ]
    },
    {
      "cell_type": "code",
      "source": [
        "\n",
        "from sentence_transformers import SentenceTransformer, util\n",
        "model = SentenceTransformer('sentence-transformers/all-MiniLM-L6-v2')\n"
      ],
      "metadata": {
        "id": "COVWzw-Ggin1"
      },
      "execution_count": null,
      "outputs": []
    },
    {
      "cell_type": "code",
      "source": [
        "#Compute embedding for both lists\n",
        "embedding=[]\n",
        "for question in questions:\n",
        "  embedding.append(model.encode(question, convert_to_tensor=True))\n"
      ],
      "metadata": {
        "id": "7MSsytbtgrQn"
      },
      "execution_count": null,
      "outputs": []
    },
    {
      "cell_type": "code",
      "source": [
        "query = \"you are given a 0indexed 2d array grid of size 2 x n \"\n",
        "query=func(query)\n",
        "query_emb=model.encode(query, convert_to_tensor=True)"
      ],
      "metadata": {
        "id": "j909N-jcg3jM"
      },
      "execution_count": null,
      "outputs": []
    },
    {
      "cell_type": "code",
      "source": [
        "score=[]\n",
        "for emb in embedding:\n",
        "  score.append(util.pytorch_cos_sim(emb, query_emb).item())"
      ],
      "metadata": {
        "id": "rrxT2mPLjDpw"
      },
      "execution_count": null,
      "outputs": []
    },
    {
      "cell_type": "code",
      "source": [
        "import numpy as np\n",
        "\n",
        "# Get the indices of questions sorted by similarity in descending order\n",
        "similar_question_indices = np.argsort(score)[::-1]\n",
        "\n",
        "# Number of top similar questions to retrieve\n",
        "num_similar_questions = 10\n",
        "\n",
        "# Retrieve the top similar questions\n",
        "top_similar_questions = [questions[i] for i in similar_question_indices[1:num_similar_questions + 1]]\n"
      ],
      "metadata": {
        "id": "VI424XZnj3Fh"
      },
      "execution_count": null,
      "outputs": []
    },
    {
      "cell_type": "code",
      "source": [
        "top_similar_questions"
      ],
      "metadata": {
        "colab": {
          "base_uri": "https://localhost:8080/"
        },
        "id": "hiemdDDRj4hm",
        "outputId": "c9676b57-5868-4414-d22b-d56c258b0d2d"
      },
      "execution_count": null,
      "outputs": [
        {
          "output_type": "execute_result",
          "data": {
            "text/plain": [
              "['you are given an integer n you have an n x n binary grid grid with all values initially 1s except for some indices given in the array mines the ith element of the array mines is defined as minesi  xi yi where gridxiyi  0 return the order of the largest axisaligned plus sign of 1s contained in grid if there is none return 0 an axisaligned plus sign of 1s of order k has some center gridrc  1 along with four arms of length k  1 going up down left and right and made of 1s note that there could be 0s or 1s beyond the arms of the plus sign only the relevant area of the plus sign is checked for 1s ',\n",
              " 'there is an m x n matrix that is initialized to all 0s there is also a 2d array indices where each indicesi  ri ci represents a 0indexed location to perform some increment operations on the matrix for each location indicesi do both of the following given m n and indices return the number of oddvalued cells in the matrix after applying the increment to all locations in indices ',\n",
              " 'given the array nums consisting of 2n elements in the form x1x2xny1y2yn return the array in the form x1y1x2y2xnyn ',\n",
              " 'an n x n grid is composed of 1 x 1 squares where each 1 x 1 square consists of a   or blank space   these characters divide the square into contiguous regions given the grid grid represented as a string array return the number of regions note that backslash characters are escaped so a  is represented as  ',\n",
              " 'you have a 2d grid of size m x n representing a box and you have n balls the box is open on the top and bottom sides each cell in the box has a diagonal board spanning two corners of the cell that can redirect a ball to the right or to the left we drop one ball at the top of each column of the box each ball can get stuck in the box or fall out of the bottom a ball gets stuck if it hits a v shaped pattern between two boards or if a board redirects the ball into either wall of the box return an array answer of size n where answeri is the column that the ball falls out of at the bottom after dropping the ball from the ith column at the top or 1 if the ball gets stuck in the box ',\n",
              " 'given the following details of a matrix with n columns and 2 rows  your task is to reconstruct the matrix with upper lower and colsum return it as a 2d integer array if there are more than one valid solution any of them will be accepted if no valid solution exists return an empty 2d array ',\n",
              " 'given a 2d grid of 0s and 1s return the number of elements in\\xa0the largest square\\xa0subgrid that has all 1s on its border or 0 if such a subgrid\\xa0doesnt exist in the grid ',\n",
              " 'you are given an n x n binary matrix grid you are allowed to change at most one 0 to be 1 return the size of the largest island in grid after applying this operation an island is a 4directionally connected group of 1s ',\n",
              " 'you are given a 0indexed 2d integer array pairs where pairsi  starti endi an arrangement of pairs is valid if for every index i where 1  i  pairslength we have endi1  starti return any valid arrangement of pairs note the inputs will be generated such that there exists a valid arrangement of pairs ',\n",
              " 'given a 2d grid of size m x n\\xa0and an integer k you need to shift the grid\\xa0k times in one shift operation return the 2d grid after applying shift operation k times ']"
            ]
          },
          "metadata": {},
          "execution_count": 107
        }
      ]
    },
    {
      "cell_type": "code",
      "source": [],
      "metadata": {
        "id": "2gHEgpAvkHFs"
      },
      "execution_count": null,
      "outputs": []
    }
  ]
}