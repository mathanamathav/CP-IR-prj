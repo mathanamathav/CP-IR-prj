{
  "nbformat": 4,
  "nbformat_minor": 0,
  "metadata": {
    "colab": {
      "provenance": []
    },
    "kernelspec": {
      "name": "python3",
      "display_name": "Python 3"
    },
    "language_info": {
      "name": "python"
    }
  },
  "cells": [
    {
      "cell_type": "code",
      "execution_count": null,
      "metadata": {
        "id": "EaZMy2XmZFGq"
      },
      "outputs": [],
      "source": [
        " import pandas as pd\n",
        "import re"
      ]
    },
    {
      "cell_type": "code",
      "source": [
        "df=pd.read_csv('/content/leetcode_questions.csv')"
      ],
      "metadata": {
        "id": "D05pEyXVZP4T"
      },
      "execution_count": null,
      "outputs": []
    },
    {
      "cell_type": "code",
      "source": [
        "df.head()"
      ],
      "metadata": {
        "colab": {
          "base_uri": "https://localhost:8080/",
          "height": 642
        },
        "id": "WIwYr-ekZVNV",
        "outputId": "cd9e0d29-dd41-4f07-9900-09cc329c24c1"
      },
      "execution_count": null,
      "outputs": [
        {
          "output_type": "execute_result",
          "data": {
            "text/plain": [
              "   Question ID                                  Question Title  \\\n",
              "0            1                                         Two Sum   \n",
              "1            2                                 Add Two Numbers   \n",
              "2            3  Longest Substring Without Repeating Characters   \n",
              "3            4                     Median of Two Sorted Arrays   \n",
              "4            5                   Longest Palindromic Substring   \n",
              "\n",
              "                                    Question Slug  \\\n",
              "0                                         two-sum   \n",
              "1                                 add-two-numbers   \n",
              "2  longest-substring-without-repeating-characters   \n",
              "3                     median-of-two-sorted-arrays   \n",
              "4                   longest-palindromic-substring   \n",
              "\n",
              "                                       Question Text  \\\n",
              "0  Given an array of integers nums and an integer...   \n",
              "1  You are given two non-empty linked lists repre...   \n",
              "2  Given a string s, find the length of the longe...   \n",
              "3  Given two sorted arrays nums1 and nums2 of siz...   \n",
              "4  Given a string s, return the longest palindrom...   \n",
              "\n",
              "                        Topic Tagged text Difficulty Level  Success Rate  \\\n",
              "0                        Array,Hash Table             Easy          48.5   \n",
              "1              Linked List,Math,Recursion           Medium          38.5   \n",
              "2        Hash Table,String,Sliding Window           Medium          33.0   \n",
              "3  Array,Binary Search,Divide and Conquer             Hard          34.0   \n",
              "4              String,Dynamic Programming           Medium          31.8   \n",
              "\n",
              "   total submission  total accepted  Likes  Dislikes  \\\n",
              "0          13207990         6403821  31242       988   \n",
              "1           6987977         2690949  17799      3682   \n",
              "2           9621884         3175843  22941      1027   \n",
              "3           3941694         1340565  15987      1964   \n",
              "4           5618701         1784028  17097      1005   \n",
              "\n",
              "                                               Hints  \\\n",
              "0  A really brute force way would be to search fo...   \n",
              "1                                                NaN   \n",
              "2                                                NaN   \n",
              "3                                                NaN   \n",
              "4  How can we reuse a previously computed palindr...   \n",
              "\n",
              "                                Similar Questions ID  \\\n",
              "0  15,18,167,170,560,653,1083,1798,1830,2116,2133...   \n",
              "1                        43,67,371,415,445,1031,1774   \n",
              "2                             159,340,1034,1813,2209   \n",
              "3                                                NaN   \n",
              "4                                214,266,336,516,647   \n",
              "\n",
              "                              Similar Questions Text  \n",
              "0  3Sum,4Sum,Two Sum II - Input Array Is Sorted,T...  \n",
              "1  Multiply Strings,Add Binary,Sum of Two Integer...  \n",
              "2  Longest Substring with At Most Two Distinct Ch...  \n",
              "3                                                NaN  \n",
              "4  Shortest Palindrome,Palindrome Permutation,Pal...  "
            ],
            "text/html": [
              "\n",
              "  <div id=\"df-db0e31dc-b791-4532-9ca2-72821ddc9a13\" class=\"colab-df-container\">\n",
              "    <div>\n",
              "<style scoped>\n",
              "    .dataframe tbody tr th:only-of-type {\n",
              "        vertical-align: middle;\n",
              "    }\n",
              "\n",
              "    .dataframe tbody tr th {\n",
              "        vertical-align: top;\n",
              "    }\n",
              "\n",
              "    .dataframe thead th {\n",
              "        text-align: right;\n",
              "    }\n",
              "</style>\n",
              "<table border=\"1\" class=\"dataframe\">\n",
              "  <thead>\n",
              "    <tr style=\"text-align: right;\">\n",
              "      <th></th>\n",
              "      <th>Question ID</th>\n",
              "      <th>Question Title</th>\n",
              "      <th>Question Slug</th>\n",
              "      <th>Question Text</th>\n",
              "      <th>Topic Tagged text</th>\n",
              "      <th>Difficulty Level</th>\n",
              "      <th>Success Rate</th>\n",
              "      <th>total submission</th>\n",
              "      <th>total accepted</th>\n",
              "      <th>Likes</th>\n",
              "      <th>Dislikes</th>\n",
              "      <th>Hints</th>\n",
              "      <th>Similar Questions ID</th>\n",
              "      <th>Similar Questions Text</th>\n",
              "    </tr>\n",
              "  </thead>\n",
              "  <tbody>\n",
              "    <tr>\n",
              "      <th>0</th>\n",
              "      <td>1</td>\n",
              "      <td>Two Sum</td>\n",
              "      <td>two-sum</td>\n",
              "      <td>Given an array of integers nums and an integer...</td>\n",
              "      <td>Array,Hash Table</td>\n",
              "      <td>Easy</td>\n",
              "      <td>48.5</td>\n",
              "      <td>13207990</td>\n",
              "      <td>6403821</td>\n",
              "      <td>31242</td>\n",
              "      <td>988</td>\n",
              "      <td>A really brute force way would be to search fo...</td>\n",
              "      <td>15,18,167,170,560,653,1083,1798,1830,2116,2133...</td>\n",
              "      <td>3Sum,4Sum,Two Sum II - Input Array Is Sorted,T...</td>\n",
              "    </tr>\n",
              "    <tr>\n",
              "      <th>1</th>\n",
              "      <td>2</td>\n",
              "      <td>Add Two Numbers</td>\n",
              "      <td>add-two-numbers</td>\n",
              "      <td>You are given two non-empty linked lists repre...</td>\n",
              "      <td>Linked List,Math,Recursion</td>\n",
              "      <td>Medium</td>\n",
              "      <td>38.5</td>\n",
              "      <td>6987977</td>\n",
              "      <td>2690949</td>\n",
              "      <td>17799</td>\n",
              "      <td>3682</td>\n",
              "      <td>NaN</td>\n",
              "      <td>43,67,371,415,445,1031,1774</td>\n",
              "      <td>Multiply Strings,Add Binary,Sum of Two Integer...</td>\n",
              "    </tr>\n",
              "    <tr>\n",
              "      <th>2</th>\n",
              "      <td>3</td>\n",
              "      <td>Longest Substring Without Repeating Characters</td>\n",
              "      <td>longest-substring-without-repeating-characters</td>\n",
              "      <td>Given a string s, find the length of the longe...</td>\n",
              "      <td>Hash Table,String,Sliding Window</td>\n",
              "      <td>Medium</td>\n",
              "      <td>33.0</td>\n",
              "      <td>9621884</td>\n",
              "      <td>3175843</td>\n",
              "      <td>22941</td>\n",
              "      <td>1027</td>\n",
              "      <td>NaN</td>\n",
              "      <td>159,340,1034,1813,2209</td>\n",
              "      <td>Longest Substring with At Most Two Distinct Ch...</td>\n",
              "    </tr>\n",
              "    <tr>\n",
              "      <th>3</th>\n",
              "      <td>4</td>\n",
              "      <td>Median of Two Sorted Arrays</td>\n",
              "      <td>median-of-two-sorted-arrays</td>\n",
              "      <td>Given two sorted arrays nums1 and nums2 of siz...</td>\n",
              "      <td>Array,Binary Search,Divide and Conquer</td>\n",
              "      <td>Hard</td>\n",
              "      <td>34.0</td>\n",
              "      <td>3941694</td>\n",
              "      <td>1340565</td>\n",
              "      <td>15987</td>\n",
              "      <td>1964</td>\n",
              "      <td>NaN</td>\n",
              "      <td>NaN</td>\n",
              "      <td>NaN</td>\n",
              "    </tr>\n",
              "    <tr>\n",
              "      <th>4</th>\n",
              "      <td>5</td>\n",
              "      <td>Longest Palindromic Substring</td>\n",
              "      <td>longest-palindromic-substring</td>\n",
              "      <td>Given a string s, return the longest palindrom...</td>\n",
              "      <td>String,Dynamic Programming</td>\n",
              "      <td>Medium</td>\n",
              "      <td>31.8</td>\n",
              "      <td>5618701</td>\n",
              "      <td>1784028</td>\n",
              "      <td>17097</td>\n",
              "      <td>1005</td>\n",
              "      <td>How can we reuse a previously computed palindr...</td>\n",
              "      <td>214,266,336,516,647</td>\n",
              "      <td>Shortest Palindrome,Palindrome Permutation,Pal...</td>\n",
              "    </tr>\n",
              "  </tbody>\n",
              "</table>\n",
              "</div>\n",
              "    <div class=\"colab-df-buttons\">\n",
              "\n",
              "  <div class=\"colab-df-container\">\n",
              "    <button class=\"colab-df-convert\" onclick=\"convertToInteractive('df-db0e31dc-b791-4532-9ca2-72821ddc9a13')\"\n",
              "            title=\"Convert this dataframe to an interactive table.\"\n",
              "            style=\"display:none;\">\n",
              "\n",
              "  <svg xmlns=\"http://www.w3.org/2000/svg\" height=\"24px\" viewBox=\"0 -960 960 960\">\n",
              "    <path d=\"M120-120v-720h720v720H120Zm60-500h600v-160H180v160Zm220 220h160v-160H400v160Zm0 220h160v-160H400v160ZM180-400h160v-160H180v160Zm440 0h160v-160H620v160ZM180-180h160v-160H180v160Zm440 0h160v-160H620v160Z\"/>\n",
              "  </svg>\n",
              "    </button>\n",
              "\n",
              "  <style>\n",
              "    .colab-df-container {\n",
              "      display:flex;\n",
              "      gap: 12px;\n",
              "    }\n",
              "\n",
              "    .colab-df-convert {\n",
              "      background-color: #E8F0FE;\n",
              "      border: none;\n",
              "      border-radius: 50%;\n",
              "      cursor: pointer;\n",
              "      display: none;\n",
              "      fill: #1967D2;\n",
              "      height: 32px;\n",
              "      padding: 0 0 0 0;\n",
              "      width: 32px;\n",
              "    }\n",
              "\n",
              "    .colab-df-convert:hover {\n",
              "      background-color: #E2EBFA;\n",
              "      box-shadow: 0px 1px 2px rgba(60, 64, 67, 0.3), 0px 1px 3px 1px rgba(60, 64, 67, 0.15);\n",
              "      fill: #174EA6;\n",
              "    }\n",
              "\n",
              "    .colab-df-buttons div {\n",
              "      margin-bottom: 4px;\n",
              "    }\n",
              "\n",
              "    [theme=dark] .colab-df-convert {\n",
              "      background-color: #3B4455;\n",
              "      fill: #D2E3FC;\n",
              "    }\n",
              "\n",
              "    [theme=dark] .colab-df-convert:hover {\n",
              "      background-color: #434B5C;\n",
              "      box-shadow: 0px 1px 3px 1px rgba(0, 0, 0, 0.15);\n",
              "      filter: drop-shadow(0px 1px 2px rgba(0, 0, 0, 0.3));\n",
              "      fill: #FFFFFF;\n",
              "    }\n",
              "  </style>\n",
              "\n",
              "    <script>\n",
              "      const buttonEl =\n",
              "        document.querySelector('#df-db0e31dc-b791-4532-9ca2-72821ddc9a13 button.colab-df-convert');\n",
              "      buttonEl.style.display =\n",
              "        google.colab.kernel.accessAllowed ? 'block' : 'none';\n",
              "\n",
              "      async function convertToInteractive(key) {\n",
              "        const element = document.querySelector('#df-db0e31dc-b791-4532-9ca2-72821ddc9a13');\n",
              "        const dataTable =\n",
              "          await google.colab.kernel.invokeFunction('convertToInteractive',\n",
              "                                                    [key], {});\n",
              "        if (!dataTable) return;\n",
              "\n",
              "        const docLinkHtml = 'Like what you see? Visit the ' +\n",
              "          '<a target=\"_blank\" href=https://colab.research.google.com/notebooks/data_table.ipynb>data table notebook</a>'\n",
              "          + ' to learn more about interactive tables.';\n",
              "        element.innerHTML = '';\n",
              "        dataTable['output_type'] = 'display_data';\n",
              "        await google.colab.output.renderOutput(dataTable, element);\n",
              "        const docLink = document.createElement('div');\n",
              "        docLink.innerHTML = docLinkHtml;\n",
              "        element.appendChild(docLink);\n",
              "      }\n",
              "    </script>\n",
              "  </div>\n",
              "\n",
              "\n",
              "<div id=\"df-974b8d2a-e53b-45a2-a111-1561d25cf943\">\n",
              "  <button class=\"colab-df-quickchart\" onclick=\"quickchart('df-974b8d2a-e53b-45a2-a111-1561d25cf943')\"\n",
              "            title=\"Suggest charts.\"\n",
              "            style=\"display:none;\">\n",
              "\n",
              "<svg xmlns=\"http://www.w3.org/2000/svg\" height=\"24px\"viewBox=\"0 0 24 24\"\n",
              "     width=\"24px\">\n",
              "    <g>\n",
              "        <path d=\"M19 3H5c-1.1 0-2 .9-2 2v14c0 1.1.9 2 2 2h14c1.1 0 2-.9 2-2V5c0-1.1-.9-2-2-2zM9 17H7v-7h2v7zm4 0h-2V7h2v10zm4 0h-2v-4h2v4z\"/>\n",
              "    </g>\n",
              "</svg>\n",
              "  </button>\n",
              "\n",
              "<style>\n",
              "  .colab-df-quickchart {\n",
              "      --bg-color: #E8F0FE;\n",
              "      --fill-color: #1967D2;\n",
              "      --hover-bg-color: #E2EBFA;\n",
              "      --hover-fill-color: #174EA6;\n",
              "      --disabled-fill-color: #AAA;\n",
              "      --disabled-bg-color: #DDD;\n",
              "  }\n",
              "\n",
              "  [theme=dark] .colab-df-quickchart {\n",
              "      --bg-color: #3B4455;\n",
              "      --fill-color: #D2E3FC;\n",
              "      --hover-bg-color: #434B5C;\n",
              "      --hover-fill-color: #FFFFFF;\n",
              "      --disabled-bg-color: #3B4455;\n",
              "      --disabled-fill-color: #666;\n",
              "  }\n",
              "\n",
              "  .colab-df-quickchart {\n",
              "    background-color: var(--bg-color);\n",
              "    border: none;\n",
              "    border-radius: 50%;\n",
              "    cursor: pointer;\n",
              "    display: none;\n",
              "    fill: var(--fill-color);\n",
              "    height: 32px;\n",
              "    padding: 0;\n",
              "    width: 32px;\n",
              "  }\n",
              "\n",
              "  .colab-df-quickchart:hover {\n",
              "    background-color: var(--hover-bg-color);\n",
              "    box-shadow: 0 1px 2px rgba(60, 64, 67, 0.3), 0 1px 3px 1px rgba(60, 64, 67, 0.15);\n",
              "    fill: var(--button-hover-fill-color);\n",
              "  }\n",
              "\n",
              "  .colab-df-quickchart-complete:disabled,\n",
              "  .colab-df-quickchart-complete:disabled:hover {\n",
              "    background-color: var(--disabled-bg-color);\n",
              "    fill: var(--disabled-fill-color);\n",
              "    box-shadow: none;\n",
              "  }\n",
              "\n",
              "  .colab-df-spinner {\n",
              "    border: 2px solid var(--fill-color);\n",
              "    border-color: transparent;\n",
              "    border-bottom-color: var(--fill-color);\n",
              "    animation:\n",
              "      spin 1s steps(1) infinite;\n",
              "  }\n",
              "\n",
              "  @keyframes spin {\n",
              "    0% {\n",
              "      border-color: transparent;\n",
              "      border-bottom-color: var(--fill-color);\n",
              "      border-left-color: var(--fill-color);\n",
              "    }\n",
              "    20% {\n",
              "      border-color: transparent;\n",
              "      border-left-color: var(--fill-color);\n",
              "      border-top-color: var(--fill-color);\n",
              "    }\n",
              "    30% {\n",
              "      border-color: transparent;\n",
              "      border-left-color: var(--fill-color);\n",
              "      border-top-color: var(--fill-color);\n",
              "      border-right-color: var(--fill-color);\n",
              "    }\n",
              "    40% {\n",
              "      border-color: transparent;\n",
              "      border-right-color: var(--fill-color);\n",
              "      border-top-color: var(--fill-color);\n",
              "    }\n",
              "    60% {\n",
              "      border-color: transparent;\n",
              "      border-right-color: var(--fill-color);\n",
              "    }\n",
              "    80% {\n",
              "      border-color: transparent;\n",
              "      border-right-color: var(--fill-color);\n",
              "      border-bottom-color: var(--fill-color);\n",
              "    }\n",
              "    90% {\n",
              "      border-color: transparent;\n",
              "      border-bottom-color: var(--fill-color);\n",
              "    }\n",
              "  }\n",
              "</style>\n",
              "\n",
              "  <script>\n",
              "    async function quickchart(key) {\n",
              "      const quickchartButtonEl =\n",
              "        document.querySelector('#' + key + ' button');\n",
              "      quickchartButtonEl.disabled = true;  // To prevent multiple clicks.\n",
              "      quickchartButtonEl.classList.add('colab-df-spinner');\n",
              "      try {\n",
              "        const charts = await google.colab.kernel.invokeFunction(\n",
              "            'suggestCharts', [key], {});\n",
              "      } catch (error) {\n",
              "        console.error('Error during call to suggestCharts:', error);\n",
              "      }\n",
              "      quickchartButtonEl.classList.remove('colab-df-spinner');\n",
              "      quickchartButtonEl.classList.add('colab-df-quickchart-complete');\n",
              "    }\n",
              "    (() => {\n",
              "      let quickchartButtonEl =\n",
              "        document.querySelector('#df-974b8d2a-e53b-45a2-a111-1561d25cf943 button');\n",
              "      quickchartButtonEl.style.display =\n",
              "        google.colab.kernel.accessAllowed ? 'block' : 'none';\n",
              "    })();\n",
              "  </script>\n",
              "</div>\n",
              "    </div>\n",
              "  </div>\n"
            ]
          },
          "metadata": {},
          "execution_count": 7
        }
      ]
    },
    {
      "cell_type": "code",
      "source": [
        "df.describe()"
      ],
      "metadata": {
        "colab": {
          "base_uri": "https://localhost:8080/",
          "height": 300
        },
        "id": "Ncl0jvFoZXeJ",
        "outputId": "fed070fc-40a7-4091-b154-155f6261e751"
      },
      "execution_count": null,
      "outputs": [
        {
          "output_type": "execute_result",
          "data": {
            "text/plain": [
              "       Question ID  Success Rate  total submission  total accepted  \\\n",
              "count  2238.000000   2238.000000      2.238000e+03    2.238000e+03   \n",
              "mean   1167.623771     54.655183      3.031581e+05    1.490713e+05   \n",
              "std     683.282653     14.888963      7.030231e+05    3.129114e+05   \n",
              "min       1.000000     14.200000      1.860000e+02    1.530000e+02   \n",
              "25%     572.250000     43.400000      3.095125e+04    1.614050e+04   \n",
              "50%    1161.500000     53.600000      7.823550e+04    4.039100e+04   \n",
              "75%    1762.750000     64.775000      2.514222e+05    1.398235e+05   \n",
              "max    2385.000000     95.500000      1.320799e+07    6.403821e+06   \n",
              "\n",
              "              Likes      Dislikes  \n",
              "count   2238.000000   2238.000000  \n",
              "mean    1546.308758    299.155496  \n",
              "std     2406.645588    708.811722  \n",
              "min        4.000000      0.000000  \n",
              "25%      273.500000     31.000000  \n",
              "50%      651.500000     97.000000  \n",
              "75%     1662.250000    256.000000  \n",
              "max    31242.000000  11520.000000  "
            ],
            "text/html": [
              "\n",
              "  <div id=\"df-6c8e1bd5-46b0-41b2-89be-081d633a96be\" class=\"colab-df-container\">\n",
              "    <div>\n",
              "<style scoped>\n",
              "    .dataframe tbody tr th:only-of-type {\n",
              "        vertical-align: middle;\n",
              "    }\n",
              "\n",
              "    .dataframe tbody tr th {\n",
              "        vertical-align: top;\n",
              "    }\n",
              "\n",
              "    .dataframe thead th {\n",
              "        text-align: right;\n",
              "    }\n",
              "</style>\n",
              "<table border=\"1\" class=\"dataframe\">\n",
              "  <thead>\n",
              "    <tr style=\"text-align: right;\">\n",
              "      <th></th>\n",
              "      <th>Question ID</th>\n",
              "      <th>Success Rate</th>\n",
              "      <th>total submission</th>\n",
              "      <th>total accepted</th>\n",
              "      <th>Likes</th>\n",
              "      <th>Dislikes</th>\n",
              "    </tr>\n",
              "  </thead>\n",
              "  <tbody>\n",
              "    <tr>\n",
              "      <th>count</th>\n",
              "      <td>2238.000000</td>\n",
              "      <td>2238.000000</td>\n",
              "      <td>2.238000e+03</td>\n",
              "      <td>2.238000e+03</td>\n",
              "      <td>2238.000000</td>\n",
              "      <td>2238.000000</td>\n",
              "    </tr>\n",
              "    <tr>\n",
              "      <th>mean</th>\n",
              "      <td>1167.623771</td>\n",
              "      <td>54.655183</td>\n",
              "      <td>3.031581e+05</td>\n",
              "      <td>1.490713e+05</td>\n",
              "      <td>1546.308758</td>\n",
              "      <td>299.155496</td>\n",
              "    </tr>\n",
              "    <tr>\n",
              "      <th>std</th>\n",
              "      <td>683.282653</td>\n",
              "      <td>14.888963</td>\n",
              "      <td>7.030231e+05</td>\n",
              "      <td>3.129114e+05</td>\n",
              "      <td>2406.645588</td>\n",
              "      <td>708.811722</td>\n",
              "    </tr>\n",
              "    <tr>\n",
              "      <th>min</th>\n",
              "      <td>1.000000</td>\n",
              "      <td>14.200000</td>\n",
              "      <td>1.860000e+02</td>\n",
              "      <td>1.530000e+02</td>\n",
              "      <td>4.000000</td>\n",
              "      <td>0.000000</td>\n",
              "    </tr>\n",
              "    <tr>\n",
              "      <th>25%</th>\n",
              "      <td>572.250000</td>\n",
              "      <td>43.400000</td>\n",
              "      <td>3.095125e+04</td>\n",
              "      <td>1.614050e+04</td>\n",
              "      <td>273.500000</td>\n",
              "      <td>31.000000</td>\n",
              "    </tr>\n",
              "    <tr>\n",
              "      <th>50%</th>\n",
              "      <td>1161.500000</td>\n",
              "      <td>53.600000</td>\n",
              "      <td>7.823550e+04</td>\n",
              "      <td>4.039100e+04</td>\n",
              "      <td>651.500000</td>\n",
              "      <td>97.000000</td>\n",
              "    </tr>\n",
              "    <tr>\n",
              "      <th>75%</th>\n",
              "      <td>1762.750000</td>\n",
              "      <td>64.775000</td>\n",
              "      <td>2.514222e+05</td>\n",
              "      <td>1.398235e+05</td>\n",
              "      <td>1662.250000</td>\n",
              "      <td>256.000000</td>\n",
              "    </tr>\n",
              "    <tr>\n",
              "      <th>max</th>\n",
              "      <td>2385.000000</td>\n",
              "      <td>95.500000</td>\n",
              "      <td>1.320799e+07</td>\n",
              "      <td>6.403821e+06</td>\n",
              "      <td>31242.000000</td>\n",
              "      <td>11520.000000</td>\n",
              "    </tr>\n",
              "  </tbody>\n",
              "</table>\n",
              "</div>\n",
              "    <div class=\"colab-df-buttons\">\n",
              "\n",
              "  <div class=\"colab-df-container\">\n",
              "    <button class=\"colab-df-convert\" onclick=\"convertToInteractive('df-6c8e1bd5-46b0-41b2-89be-081d633a96be')\"\n",
              "            title=\"Convert this dataframe to an interactive table.\"\n",
              "            style=\"display:none;\">\n",
              "\n",
              "  <svg xmlns=\"http://www.w3.org/2000/svg\" height=\"24px\" viewBox=\"0 -960 960 960\">\n",
              "    <path d=\"M120-120v-720h720v720H120Zm60-500h600v-160H180v160Zm220 220h160v-160H400v160Zm0 220h160v-160H400v160ZM180-400h160v-160H180v160Zm440 0h160v-160H620v160ZM180-180h160v-160H180v160Zm440 0h160v-160H620v160Z\"/>\n",
              "  </svg>\n",
              "    </button>\n",
              "\n",
              "  <style>\n",
              "    .colab-df-container {\n",
              "      display:flex;\n",
              "      gap: 12px;\n",
              "    }\n",
              "\n",
              "    .colab-df-convert {\n",
              "      background-color: #E8F0FE;\n",
              "      border: none;\n",
              "      border-radius: 50%;\n",
              "      cursor: pointer;\n",
              "      display: none;\n",
              "      fill: #1967D2;\n",
              "      height: 32px;\n",
              "      padding: 0 0 0 0;\n",
              "      width: 32px;\n",
              "    }\n",
              "\n",
              "    .colab-df-convert:hover {\n",
              "      background-color: #E2EBFA;\n",
              "      box-shadow: 0px 1px 2px rgba(60, 64, 67, 0.3), 0px 1px 3px 1px rgba(60, 64, 67, 0.15);\n",
              "      fill: #174EA6;\n",
              "    }\n",
              "\n",
              "    .colab-df-buttons div {\n",
              "      margin-bottom: 4px;\n",
              "    }\n",
              "\n",
              "    [theme=dark] .colab-df-convert {\n",
              "      background-color: #3B4455;\n",
              "      fill: #D2E3FC;\n",
              "    }\n",
              "\n",
              "    [theme=dark] .colab-df-convert:hover {\n",
              "      background-color: #434B5C;\n",
              "      box-shadow: 0px 1px 3px 1px rgba(0, 0, 0, 0.15);\n",
              "      filter: drop-shadow(0px 1px 2px rgba(0, 0, 0, 0.3));\n",
              "      fill: #FFFFFF;\n",
              "    }\n",
              "  </style>\n",
              "\n",
              "    <script>\n",
              "      const buttonEl =\n",
              "        document.querySelector('#df-6c8e1bd5-46b0-41b2-89be-081d633a96be button.colab-df-convert');\n",
              "      buttonEl.style.display =\n",
              "        google.colab.kernel.accessAllowed ? 'block' : 'none';\n",
              "\n",
              "      async function convertToInteractive(key) {\n",
              "        const element = document.querySelector('#df-6c8e1bd5-46b0-41b2-89be-081d633a96be');\n",
              "        const dataTable =\n",
              "          await google.colab.kernel.invokeFunction('convertToInteractive',\n",
              "                                                    [key], {});\n",
              "        if (!dataTable) return;\n",
              "\n",
              "        const docLinkHtml = 'Like what you see? Visit the ' +\n",
              "          '<a target=\"_blank\" href=https://colab.research.google.com/notebooks/data_table.ipynb>data table notebook</a>'\n",
              "          + ' to learn more about interactive tables.';\n",
              "        element.innerHTML = '';\n",
              "        dataTable['output_type'] = 'display_data';\n",
              "        await google.colab.output.renderOutput(dataTable, element);\n",
              "        const docLink = document.createElement('div');\n",
              "        docLink.innerHTML = docLinkHtml;\n",
              "        element.appendChild(docLink);\n",
              "      }\n",
              "    </script>\n",
              "  </div>\n",
              "\n",
              "\n",
              "<div id=\"df-5be2256c-2f6f-49c9-9ac5-4a3227b78388\">\n",
              "  <button class=\"colab-df-quickchart\" onclick=\"quickchart('df-5be2256c-2f6f-49c9-9ac5-4a3227b78388')\"\n",
              "            title=\"Suggest charts.\"\n",
              "            style=\"display:none;\">\n",
              "\n",
              "<svg xmlns=\"http://www.w3.org/2000/svg\" height=\"24px\"viewBox=\"0 0 24 24\"\n",
              "     width=\"24px\">\n",
              "    <g>\n",
              "        <path d=\"M19 3H5c-1.1 0-2 .9-2 2v14c0 1.1.9 2 2 2h14c1.1 0 2-.9 2-2V5c0-1.1-.9-2-2-2zM9 17H7v-7h2v7zm4 0h-2V7h2v10zm4 0h-2v-4h2v4z\"/>\n",
              "    </g>\n",
              "</svg>\n",
              "  </button>\n",
              "\n",
              "<style>\n",
              "  .colab-df-quickchart {\n",
              "      --bg-color: #E8F0FE;\n",
              "      --fill-color: #1967D2;\n",
              "      --hover-bg-color: #E2EBFA;\n",
              "      --hover-fill-color: #174EA6;\n",
              "      --disabled-fill-color: #AAA;\n",
              "      --disabled-bg-color: #DDD;\n",
              "  }\n",
              "\n",
              "  [theme=dark] .colab-df-quickchart {\n",
              "      --bg-color: #3B4455;\n",
              "      --fill-color: #D2E3FC;\n",
              "      --hover-bg-color: #434B5C;\n",
              "      --hover-fill-color: #FFFFFF;\n",
              "      --disabled-bg-color: #3B4455;\n",
              "      --disabled-fill-color: #666;\n",
              "  }\n",
              "\n",
              "  .colab-df-quickchart {\n",
              "    background-color: var(--bg-color);\n",
              "    border: none;\n",
              "    border-radius: 50%;\n",
              "    cursor: pointer;\n",
              "    display: none;\n",
              "    fill: var(--fill-color);\n",
              "    height: 32px;\n",
              "    padding: 0;\n",
              "    width: 32px;\n",
              "  }\n",
              "\n",
              "  .colab-df-quickchart:hover {\n",
              "    background-color: var(--hover-bg-color);\n",
              "    box-shadow: 0 1px 2px rgba(60, 64, 67, 0.3), 0 1px 3px 1px rgba(60, 64, 67, 0.15);\n",
              "    fill: var(--button-hover-fill-color);\n",
              "  }\n",
              "\n",
              "  .colab-df-quickchart-complete:disabled,\n",
              "  .colab-df-quickchart-complete:disabled:hover {\n",
              "    background-color: var(--disabled-bg-color);\n",
              "    fill: var(--disabled-fill-color);\n",
              "    box-shadow: none;\n",
              "  }\n",
              "\n",
              "  .colab-df-spinner {\n",
              "    border: 2px solid var(--fill-color);\n",
              "    border-color: transparent;\n",
              "    border-bottom-color: var(--fill-color);\n",
              "    animation:\n",
              "      spin 1s steps(1) infinite;\n",
              "  }\n",
              "\n",
              "  @keyframes spin {\n",
              "    0% {\n",
              "      border-color: transparent;\n",
              "      border-bottom-color: var(--fill-color);\n",
              "      border-left-color: var(--fill-color);\n",
              "    }\n",
              "    20% {\n",
              "      border-color: transparent;\n",
              "      border-left-color: var(--fill-color);\n",
              "      border-top-color: var(--fill-color);\n",
              "    }\n",
              "    30% {\n",
              "      border-color: transparent;\n",
              "      border-left-color: var(--fill-color);\n",
              "      border-top-color: var(--fill-color);\n",
              "      border-right-color: var(--fill-color);\n",
              "    }\n",
              "    40% {\n",
              "      border-color: transparent;\n",
              "      border-right-color: var(--fill-color);\n",
              "      border-top-color: var(--fill-color);\n",
              "    }\n",
              "    60% {\n",
              "      border-color: transparent;\n",
              "      border-right-color: var(--fill-color);\n",
              "    }\n",
              "    80% {\n",
              "      border-color: transparent;\n",
              "      border-right-color: var(--fill-color);\n",
              "      border-bottom-color: var(--fill-color);\n",
              "    }\n",
              "    90% {\n",
              "      border-color: transparent;\n",
              "      border-bottom-color: var(--fill-color);\n",
              "    }\n",
              "  }\n",
              "</style>\n",
              "\n",
              "  <script>\n",
              "    async function quickchart(key) {\n",
              "      const quickchartButtonEl =\n",
              "        document.querySelector('#' + key + ' button');\n",
              "      quickchartButtonEl.disabled = true;  // To prevent multiple clicks.\n",
              "      quickchartButtonEl.classList.add('colab-df-spinner');\n",
              "      try {\n",
              "        const charts = await google.colab.kernel.invokeFunction(\n",
              "            'suggestCharts', [key], {});\n",
              "      } catch (error) {\n",
              "        console.error('Error during call to suggestCharts:', error);\n",
              "      }\n",
              "      quickchartButtonEl.classList.remove('colab-df-spinner');\n",
              "      quickchartButtonEl.classList.add('colab-df-quickchart-complete');\n",
              "    }\n",
              "    (() => {\n",
              "      let quickchartButtonEl =\n",
              "        document.querySelector('#df-5be2256c-2f6f-49c9-9ac5-4a3227b78388 button');\n",
              "      quickchartButtonEl.style.display =\n",
              "        google.colab.kernel.accessAllowed ? 'block' : 'none';\n",
              "    })();\n",
              "  </script>\n",
              "</div>\n",
              "    </div>\n",
              "  </div>\n"
            ]
          },
          "metadata": {},
          "execution_count": 8
        }
      ]
    },
    {
      "cell_type": "code",
      "source": [
        "df.shape"
      ],
      "metadata": {
        "colab": {
          "base_uri": "https://localhost:8080/"
        },
        "id": "ABwPpYQ_cWDE",
        "outputId": "7cb9d37c-de39-4179-83e5-2c47932309b8"
      },
      "execution_count": null,
      "outputs": [
        {
          "output_type": "execute_result",
          "data": {
            "text/plain": [
              "(2238, 14)"
            ]
          },
          "metadata": {},
          "execution_count": 9
        }
      ]
    },
    {
      "cell_type": "code",
      "source": [
        "len(df['Question ID'].unique())"
      ],
      "metadata": {
        "colab": {
          "base_uri": "https://localhost:8080/"
        },
        "id": "fuTwKgvZccua",
        "outputId": "a048d112-aac9-4c0e-f80d-28eb4d11bb19"
      },
      "execution_count": null,
      "outputs": [
        {
          "output_type": "execute_result",
          "data": {
            "text/plain": [
              "2238"
            ]
          },
          "metadata": {},
          "execution_count": 10
        }
      ]
    },
    {
      "cell_type": "code",
      "source": [
        "df.columns"
      ],
      "metadata": {
        "colab": {
          "base_uri": "https://localhost:8080/"
        },
        "id": "lKEALkF2ggfJ",
        "outputId": "e2ab6ea8-e460-42d1-9c05-29a34ca40be2"
      },
      "execution_count": null,
      "outputs": [
        {
          "output_type": "execute_result",
          "data": {
            "text/plain": [
              "Index(['Question ID', 'Question Title', 'Question Slug', 'Question Text',\n",
              "       'Topic Tagged text', 'Difficulty Level', 'Success Rate',\n",
              "       'total submission', 'total accepted', 'Likes', 'Dislikes', 'Hints',\n",
              "       'Similar Questions ID', 'Similar Questions Text'],\n",
              "      dtype='object')"
            ]
          },
          "metadata": {},
          "execution_count": 11
        }
      ]
    },
    {
      "cell_type": "code",
      "source": [
        "df['Question Text']"
      ],
      "metadata": {
        "colab": {
          "base_uri": "https://localhost:8080/"
        },
        "id": "SzWVXlYAqu2T",
        "outputId": "43e0eabd-0ee3-411e-90aa-35f9db633259"
      },
      "execution_count": null,
      "outputs": [
        {
          "output_type": "execute_result",
          "data": {
            "text/plain": [
              "0       Given an array of integers nums and an integer...\n",
              "1       You are given two non-empty linked lists repre...\n",
              "2       Given a string s, find the length of the longe...\n",
              "3       Given two sorted arrays nums1 and nums2 of siz...\n",
              "4       Given a string s, return the longest palindrom...\n",
              "                              ...                        \n",
              "2233                                                  NaN\n",
              "2234                                                  NaN\n",
              "2235                                                  NaN\n",
              "2236    You are given the root of a binary tree that c...\n",
              "2237                                                  NaN\n",
              "Name: Question Text, Length: 2238, dtype: object"
            ]
          },
          "metadata": {},
          "execution_count": 12
        }
      ]
    },
    {
      "cell_type": "code",
      "source": [
        "df['Question Text'] = df['Question Text'].fillna('')"
      ],
      "metadata": {
        "id": "hf5bSzzMv1tz"
      },
      "execution_count": null,
      "outputs": []
    },
    {
      "cell_type": "code",
      "source": [
        "df['Question Text']"
      ],
      "metadata": {
        "colab": {
          "base_uri": "https://localhost:8080/"
        },
        "id": "j8nigJarxEpW",
        "outputId": "76b00b95-a201-48ae-e1db-dd413150a84f"
      },
      "execution_count": null,
      "outputs": [
        {
          "output_type": "execute_result",
          "data": {
            "text/plain": [
              "0       Given an array of integers nums and an integer...\n",
              "1       You are given two non-empty linked lists repre...\n",
              "2       Given a string s, find the length of the longe...\n",
              "3       Given two sorted arrays nums1 and nums2 of siz...\n",
              "4       Given a string s, return the longest palindrom...\n",
              "                              ...                        \n",
              "2233                                                     \n",
              "2234                                                     \n",
              "2235                                                     \n",
              "2236    You are given the root of a binary tree that c...\n",
              "2237                                                     \n",
              "Name: Question Text, Length: 2238, dtype: object"
            ]
          },
          "metadata": {},
          "execution_count": 14
        }
      ]
    },
    {
      "cell_type": "code",
      "source": [
        "def func(text):\n",
        "  # Remove all special characters using regular expressions\n",
        "  cleaned_text = re.sub(r'[^a-zA-Z0-9\\s]', '', text)\n",
        "  cleaned_text=cleaned_text.lower()\n",
        "  return cleaned_text"
      ],
      "metadata": {
        "id": "IiU8pt3dEUVw"
      },
      "execution_count": null,
      "outputs": []
    },
    {
      "cell_type": "code",
      "source": [
        "df['Question Text']=df['Question Text'].apply(func)"
      ],
      "metadata": {
        "id": "axWWyw2Hz5Lu"
      },
      "execution_count": null,
      "outputs": []
    },
    {
      "cell_type": "code",
      "source": [
        "df['Question Text']"
      ],
      "metadata": {
        "colab": {
          "base_uri": "https://localhost:8080/"
        },
        "id": "lq4uOUnMEwzs",
        "outputId": "f3d23ccc-c83b-4f4f-f395-9276cdfbe953"
      },
      "execution_count": null,
      "outputs": [
        {
          "output_type": "execute_result",
          "data": {
            "text/plain": [
              "0       given an array of integers nums and an integer...\n",
              "1       you are given two nonempty linked lists repres...\n",
              "2       given a string s find the length of the longes...\n",
              "3       given two sorted arrays nums1 and nums2 of siz...\n",
              "4       given a string s return the longest palindromi...\n",
              "                              ...                        \n",
              "2233                                                     \n",
              "2234                                                     \n",
              "2235                                                     \n",
              "2236    you are given the root of a binary tree that c...\n",
              "2237                                                     \n",
              "Name: Question Text, Length: 2238, dtype: object"
            ]
          },
          "metadata": {},
          "execution_count": 17
        }
      ]
    },
    {
      "cell_type": "code",
      "source": [
        "question1=df['Question Text'].tolist()"
      ],
      "metadata": {
        "id": "a-A8yGcbEm3O"
      },
      "execution_count": null,
      "outputs": []
    },
    {
      "cell_type": "code",
      "source": [
        "questions = [item for item in question1 if item != \"\"]\n"
      ],
      "metadata": {
        "id": "jyvmRx2lwBXK"
      },
      "execution_count": null,
      "outputs": []
    },
    {
      "cell_type": "code",
      "source": [
        "from sklearn.feature_extraction.text import TfidfVectorizer"
      ],
      "metadata": {
        "id": "9o7oEPTrxhRw"
      },
      "execution_count": null,
      "outputs": []
    },
    {
      "cell_type": "code",
      "source": [
        "# Initialize the TfidfVectorizer\n",
        "tfidf_vectorizer = TfidfVectorizer()\n",
        "\n",
        "# Fit the vectorizer on your questions\n",
        "tfidf_vectorizer.fit(questions)"
      ],
      "metadata": {
        "colab": {
          "base_uri": "https://localhost:8080/",
          "height": 74
        },
        "id": "W6sch8kOxzNB",
        "outputId": "d4495415-3fcb-4662-8544-ff5f9f585a28"
      },
      "execution_count": null,
      "outputs": [
        {
          "output_type": "execute_result",
          "data": {
            "text/plain": [
              "TfidfVectorizer()"
            ],
            "text/html": [
              "<style>#sk-container-id-1 {color: black;background-color: white;}#sk-container-id-1 pre{padding: 0;}#sk-container-id-1 div.sk-toggleable {background-color: white;}#sk-container-id-1 label.sk-toggleable__label {cursor: pointer;display: block;width: 100%;margin-bottom: 0;padding: 0.3em;box-sizing: border-box;text-align: center;}#sk-container-id-1 label.sk-toggleable__label-arrow:before {content: \"▸\";float: left;margin-right: 0.25em;color: #696969;}#sk-container-id-1 label.sk-toggleable__label-arrow:hover:before {color: black;}#sk-container-id-1 div.sk-estimator:hover label.sk-toggleable__label-arrow:before {color: black;}#sk-container-id-1 div.sk-toggleable__content {max-height: 0;max-width: 0;overflow: hidden;text-align: left;background-color: #f0f8ff;}#sk-container-id-1 div.sk-toggleable__content pre {margin: 0.2em;color: black;border-radius: 0.25em;background-color: #f0f8ff;}#sk-container-id-1 input.sk-toggleable__control:checked~div.sk-toggleable__content {max-height: 200px;max-width: 100%;overflow: auto;}#sk-container-id-1 input.sk-toggleable__control:checked~label.sk-toggleable__label-arrow:before {content: \"▾\";}#sk-container-id-1 div.sk-estimator input.sk-toggleable__control:checked~label.sk-toggleable__label {background-color: #d4ebff;}#sk-container-id-1 div.sk-label input.sk-toggleable__control:checked~label.sk-toggleable__label {background-color: #d4ebff;}#sk-container-id-1 input.sk-hidden--visually {border: 0;clip: rect(1px 1px 1px 1px);clip: rect(1px, 1px, 1px, 1px);height: 1px;margin: -1px;overflow: hidden;padding: 0;position: absolute;width: 1px;}#sk-container-id-1 div.sk-estimator {font-family: monospace;background-color: #f0f8ff;border: 1px dotted black;border-radius: 0.25em;box-sizing: border-box;margin-bottom: 0.5em;}#sk-container-id-1 div.sk-estimator:hover {background-color: #d4ebff;}#sk-container-id-1 div.sk-parallel-item::after {content: \"\";width: 100%;border-bottom: 1px solid gray;flex-grow: 1;}#sk-container-id-1 div.sk-label:hover label.sk-toggleable__label {background-color: #d4ebff;}#sk-container-id-1 div.sk-serial::before {content: \"\";position: absolute;border-left: 1px solid gray;box-sizing: border-box;top: 0;bottom: 0;left: 50%;z-index: 0;}#sk-container-id-1 div.sk-serial {display: flex;flex-direction: column;align-items: center;background-color: white;padding-right: 0.2em;padding-left: 0.2em;position: relative;}#sk-container-id-1 div.sk-item {position: relative;z-index: 1;}#sk-container-id-1 div.sk-parallel {display: flex;align-items: stretch;justify-content: center;background-color: white;position: relative;}#sk-container-id-1 div.sk-item::before, #sk-container-id-1 div.sk-parallel-item::before {content: \"\";position: absolute;border-left: 1px solid gray;box-sizing: border-box;top: 0;bottom: 0;left: 50%;z-index: -1;}#sk-container-id-1 div.sk-parallel-item {display: flex;flex-direction: column;z-index: 1;position: relative;background-color: white;}#sk-container-id-1 div.sk-parallel-item:first-child::after {align-self: flex-end;width: 50%;}#sk-container-id-1 div.sk-parallel-item:last-child::after {align-self: flex-start;width: 50%;}#sk-container-id-1 div.sk-parallel-item:only-child::after {width: 0;}#sk-container-id-1 div.sk-dashed-wrapped {border: 1px dashed gray;margin: 0 0.4em 0.5em 0.4em;box-sizing: border-box;padding-bottom: 0.4em;background-color: white;}#sk-container-id-1 div.sk-label label {font-family: monospace;font-weight: bold;display: inline-block;line-height: 1.2em;}#sk-container-id-1 div.sk-label-container {text-align: center;}#sk-container-id-1 div.sk-container {/* jupyter's `normalize.less` sets `[hidden] { display: none; }` but bootstrap.min.css set `[hidden] { display: none !important; }` so we also need the `!important` here to be able to override the default hidden behavior on the sphinx rendered scikit-learn.org. See: https://github.com/scikit-learn/scikit-learn/issues/21755 */display: inline-block !important;position: relative;}#sk-container-id-1 div.sk-text-repr-fallback {display: none;}</style><div id=\"sk-container-id-1\" class=\"sk-top-container\"><div class=\"sk-text-repr-fallback\"><pre>TfidfVectorizer()</pre><b>In a Jupyter environment, please rerun this cell to show the HTML representation or trust the notebook. <br />On GitHub, the HTML representation is unable to render, please try loading this page with nbviewer.org.</b></div><div class=\"sk-container\" hidden><div class=\"sk-item\"><div class=\"sk-estimator sk-toggleable\"><input class=\"sk-toggleable__control sk-hidden--visually\" id=\"sk-estimator-id-1\" type=\"checkbox\" checked><label for=\"sk-estimator-id-1\" class=\"sk-toggleable__label sk-toggleable__label-arrow\">TfidfVectorizer</label><div class=\"sk-toggleable__content\"><pre>TfidfVectorizer()</pre></div></div></div></div></div>"
            ]
          },
          "metadata": {},
          "execution_count": 21
        }
      ]
    },
    {
      "cell_type": "code",
      "source": [
        "# Transform your questions into TF-IDF vectors\n",
        "tfidf_vectors = tfidf_vectorizer.transform(questions)"
      ],
      "metadata": {
        "id": "s6__FtdMx3yI"
      },
      "execution_count": null,
      "outputs": []
    },
    {
      "cell_type": "code",
      "source": [
        "terms = tfidf_vectorizer.get_feature_names_out()\n",
        "tfidf_weights = tfidf_vectors.toarray()"
      ],
      "metadata": {
        "id": "e5bupaGhyC8C"
      },
      "execution_count": null,
      "outputs": []
    },
    {
      "cell_type": "code",
      "source": [
        "terms"
      ],
      "metadata": {
        "colab": {
          "base_uri": "https://localhost:8080/"
        },
        "id": "tVLLbcA1yNq4",
        "outputId": "96835ef7-4337-49f9-c6bc-bc7aea3ba15a"
      },
      "execution_count": null,
      "outputs": [
        {
          "output_type": "execute_result",
          "data": {
            "text/plain": [
              "array(['00', '000', '0000', ..., 'zk', 'zuma', 'zx'], dtype=object)"
            ]
          },
          "metadata": {},
          "execution_count": 24
        }
      ]
    },
    {
      "cell_type": "code",
      "source": [
        "given_question = \"dynamic programming\""
      ],
      "metadata": {
        "id": "WMEqv9WMB34U"
      },
      "execution_count": null,
      "outputs": []
    },
    {
      "cell_type": "code",
      "source": [
        "given_question = func(given_question)  # Assuming you have a preprocess function as in the previous steps"
      ],
      "metadata": {
        "id": "t0ZNaP9e8UqD"
      },
      "execution_count": null,
      "outputs": []
    },
    {
      "cell_type": "code",
      "source": [
        "given_question"
      ],
      "metadata": {
        "colab": {
          "base_uri": "https://localhost:8080/",
          "height": 36
        },
        "id": "gdy_VENEBNJ6",
        "outputId": "45346d6e-bb96-44db-f303-7b7c1b4d8c2f"
      },
      "execution_count": null,
      "outputs": [
        {
          "output_type": "execute_result",
          "data": {
            "text/plain": [
              "'dynamic programming'"
            ],
            "application/vnd.google.colaboratory.intrinsic+json": {
              "type": "string"
            }
          },
          "metadata": {},
          "execution_count": 27
        }
      ]
    },
    {
      "cell_type": "code",
      "source": [
        "# Use the same TfidfVectorizer instance that you fit earlier\n",
        "given_question_vector = tfidf_vectorizer.transform([given_question])"
      ],
      "metadata": {
        "id": "pT9n6IdS-SwP"
      },
      "execution_count": null,
      "outputs": []
    },
    {
      "cell_type": "code",
      "source": [
        "from sklearn.metrics.pairwise import cosine_similarity\n",
        "\n",
        "# Calculate cosine similarity between the given question and all questions in the dataset\n",
        "similarities = cosine_similarity(given_question_vector, tfidf_vectors)"
      ],
      "metadata": {
        "id": "GQKrIKIh-a-R"
      },
      "execution_count": null,
      "outputs": []
    },
    {
      "cell_type": "code",
      "source": [
        "import numpy as np\n",
        "\n",
        "# Get the indices of questions sorted by similarity in descending order\n",
        "similar_question_indices = np.argsort(similarities[0])[::-1]\n",
        "\n",
        "# Number of top similar questions to retrieve\n",
        "num_similar_questions = 5\n",
        "\n",
        "# Retrieve the top similar questions\n",
        "top_similar_questions = [questions[i] for i in similar_question_indices[1:num_similar_questions + 1]]\n"
      ],
      "metadata": {
        "id": "0jYnWoG4-uve"
      },
      "execution_count": null,
      "outputs": []
    },
    {
      "cell_type": "code",
      "source": [
        "similar_question_indices[1:num_similar_questions + 1]"
      ],
      "metadata": {
        "colab": {
          "base_uri": "https://localhost:8080/"
        },
        "id": "40uXb9F_Al2z",
        "outputId": "f7d123e5-254a-4768-90f2-1bc49b20deac"
      },
      "execution_count": null,
      "outputs": [
        {
          "output_type": "execute_result",
          "data": {
            "text/plain": [
              "array([1557,  660, 1757,  588,  578])"
            ]
          },
          "metadata": {},
          "execution_count": 31
        }
      ]
    },
    {
      "cell_type": "code",
      "source": [
        "top_similar_questions"
      ],
      "metadata": {
        "colab": {
          "base_uri": "https://localhost:8080/"
        },
        "id": "dLWTvJpr-ze2",
        "outputId": "68e483bb-3d04-42d7-e2d4-ba82f7f7254f"
      },
      "execution_count": null,
      "outputs": [
        {
          "output_type": "execute_result",
          "data": {
            "text/plain": [
              "['you are currently designing a dynamic array you are given a 0indexed integer array nums where numsi is the number of elements that will be in the array at time i in addition you are given an integer k the maximum number of times you can resize the array to any size the size of the array at time t sizet must be at least numst because there needs to be enough space in the array to hold all the elements the space wasted at\\xa0time t is defined as sizet  numst and the total space wasted is the sum of the space wasted across every time t where 0  t  numslength return the minimum total space wasted if you can resize the array at most k times note the array can have any size at the start and does not count towards the number of resizing operations ',\n",
              " 'design your implementation of the circular queue the circular queue is a linear data structure in which the operations are performed based on fifo first in first out principle and the last position is connected back to the first position to make a circle it is also called ring buffer one of the benefits of the circular queue is that we can make use of the spaces in front of the queue in a normal queue once the queue becomes full we cannot insert the next element even if there is a space in front of the queue but using the circular queue we can use the space to store new values implementation the mycircularqueue class you must solve the problem without using the builtin queue data structure in your programming language ',\n",
              " 'you are given the root of a binary tree that consists of exactly 3 nodes the root its left child and its right child return true if the value of the root is equal to the sum of the values of its two children or false otherwise ',\n",
              " 'given the root of an nary tree return the preorder traversal of its nodes values narytree input serialization is represented in their level order traversal each group of children is separated by the null value see examples ',\n",
              " 'special binary strings are binary strings with the following two properties you are given a special binary string s a move consists of choosing two consecutive nonempty special substrings of s and swapping them two strings are consecutive if the last character of the first string is exactly one index before the first character of the second string return the lexicographically largest resulting string possible after applying the mentioned operations on the string ']"
            ]
          },
          "metadata": {},
          "execution_count": 32
        }
      ]
    },
    {
      "cell_type": "code",
      "source": [],
      "metadata": {
        "id": "mqQ1vf8P-2DE"
      },
      "execution_count": null,
      "outputs": []
    }
  ]
}